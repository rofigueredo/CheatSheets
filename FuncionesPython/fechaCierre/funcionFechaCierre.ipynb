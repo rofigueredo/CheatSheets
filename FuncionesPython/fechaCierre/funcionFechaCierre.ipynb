{
 "cells": [
  {
   "cell_type": "code",
   "execution_count": 13,
   "metadata": {},
   "outputs": [],
   "source": [
    "# Para convertir el al tipo de dato date\n",
    "import pandas as pd\n",
    "\n",
    "df = pd.DataFrame({'fechas': ['20231009', '20231115', '20230102']})\n",
    "\n",
    "df['formatted_fechas'] = pd.to_datetime(df['fechas']).dt.strftime('%Y-%m-%d')\n"
   ]
  },
  {
   "cell_type": "code",
   "execution_count": 11,
   "metadata": {},
   "outputs": [],
   "source": [
    "import calendar\n",
    "from datetime import date, datetime, timedelta\n",
    "\n",
    "def get_last_day_of_last_month(fecha):\n",
    "    fecha = datetime.strptime(fecha, \"%Y-%m-%d\")\n",
    "    # get the current_year and current_month \n",
    "    current_year = fecha.year\n",
    "    current_month = fecha.month\n",
    "    if current_month == 1:\n",
    "        last_month = 12\n",
    "        last_year = current_year - 1\n",
    "    else:\n",
    "        last_month = current_month - 1\n",
    "        last_year = current_year\n",
    "    # Using datetime module\n",
    "    _, lastDay_OfLastMonth = calendar.monthrange(last_year, last_month)\n",
    "    # return last_day_of_last_month\n",
    "\n",
    "    # Fecha Cierre\n",
    "    fechaCierre_mesAnterior = date(last_year, last_month, lastDay_OfLastMonth)\n",
    "    print(fechaCierre_mesAnterior)\n"
   ]
  },
  {
   "cell_type": "code",
   "execution_count": 24,
   "metadata": {},
   "outputs": [
    {
     "name": "stdout",
     "output_type": "stream",
     "text": [
      "2023-10-09\n",
      "2023-09-30\n",
      "2023-11-15\n",
      "2023-10-31\n",
      "2023-01-02\n",
      "2022-12-31\n"
     ]
    }
   ],
   "source": [
    "# Para recorrer el dataframes\n",
    "for i in range(len(df)):\n",
    "    print(df.iloc[i]['formatted_fechas'])\n",
    "    get_last_day_of_last_month(df.iloc[i]['formatted_fechas'])"
   ]
  }
 ],
 "metadata": {
  "kernelspec": {
   "display_name": "Python 3",
   "language": "python",
   "name": "python3"
  },
  "language_info": {
   "codemirror_mode": {
    "name": "ipython",
    "version": 3
   },
   "file_extension": ".py",
   "mimetype": "text/x-python",
   "name": "python",
   "nbconvert_exporter": "python",
   "pygments_lexer": "ipython3",
   "version": "3.11.2"
  },
  "orig_nbformat": 4
 },
 "nbformat": 4,
 "nbformat_minor": 2
}
