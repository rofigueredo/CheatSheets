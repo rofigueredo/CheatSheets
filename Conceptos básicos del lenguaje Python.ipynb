{
 "cells": [
  {
   "attachments": {},
   "cell_type": "markdown",
   "id": "e974d37f",
   "metadata": {},
   "source": [
    "- VARIABLES"
   ]
  },
  {
   "attachments": {},
   "cell_type": "markdown",
   "id": "3940a0b1",
   "metadata": {},
   "source": [
    " $\\color{white}{\\text{1- Asignación y visualización de una variable}}$ \n",
    "\n",
    "Cree una variable llamada miVariable y asígnele el valor 1234, luego muestrela con la funcion print. Asignacion y visualizacion de una variable."
   ]
  },
  {
   "cell_type": "code",
   "execution_count": 1,
   "id": "a9aa9326",
   "metadata": {},
   "outputs": [
    {
     "name": "stdout",
     "output_type": "stream",
     "text": [
      "1234\n"
     ]
    }
   ],
   "source": [
    "miVariable=1234\n",
    "print(miVariable)"
   ]
  },
  {
   "attachments": {},
   "cell_type": "markdown",
   "id": "41fb23aa",
   "metadata": {},
   "source": [
    " $\\color{white}{\\text{2- Asignación y visualización de varias variables y posiblemente de tipos distintos}}$  \n",
    "\n",
    "Consideramos dos variables llamadas $\\color{red}{\\text{miVariableBooleana}}$ y $\\color{red}{\\text{miVariableEntera}}$, donde cada una es de un tipo distinto (booleano y entero). Se les pueden asignar valores con una sola línea de instrucciones, como se muestra en el ejemplo que aparece a continuación:"
   ]
  },
  {
   "cell_type": "code",
   "execution_count": null,
   "id": "379c278a",
   "metadata": {},
   "outputs": [],
   "source": [
    "miVariableBoolena, miVariableEntera= False,4567\n",
    "print(miVariableBoolena)\n",
    "print(miVariableEntera)"
   ]
  },
  {
   "attachments": {},
   "cell_type": "markdown",
   "id": "33423791",
   "metadata": {},
   "source": [
    " $\\color{white}{\\text{3- Creación de varias variables del mismo tipo y del mismo valor}}$  \n",
    " \n",
    "El programa que aparece abajo demuestra que se pueden crear tres variables que tomen el mismo valor. Por lo tanto,\n",
    "estas tres variables seran del mismo tipo (enteros en nuestro caso)."
   ]
  },
  {
   "cell_type": "code",
   "execution_count": 2,
   "id": "42ecf7f0",
   "metadata": {},
   "outputs": [
    {
     "name": "stdout",
     "output_type": "stream",
     "text": [
      "6789\n",
      "6789\n",
      "6789\n"
     ]
    }
   ],
   "source": [
    "a = b = c = 6789\n",
    "print(a)\n",
    "print(b)\n",
    "print(c)"
   ]
  },
  {
   "attachments": {},
   "cell_type": "markdown",
   "id": "695def57",
   "metadata": {},
   "source": [
    "- CADENAS"
   ]
  },
  {
   "attachments": {},
   "cell_type": "markdown",
   "id": "25baa171",
   "metadata": {},
   "source": [
    "$\\color{white}{\\text{1- Manipulación de cadenas de caracteres}}$ \n"
   ]
  },
  {
   "attachments": {},
   "cell_type": "markdown",
   "id": "18c25f4f",
   "metadata": {},
   "source": [
    " $\\color{blue}{\\text{a- Creación}}$  \n",
    "\n",
    "\n",
    "Para crear una cadena de caracteres, podemos utilizar las comillas dobles (\") o simples (’)"
   ]
  },
  {
   "cell_type": "code",
   "execution_count": 5,
   "id": "179623d3",
   "metadata": {},
   "outputs": [
    {
     "data": {
      "text/plain": [
       "'Una cadena de caracteres'"
      ]
     },
     "execution_count": 5,
     "metadata": {},
     "output_type": "execute_result"
    }
   ],
   "source": [
    "\"Una cadena de caracteres\"\n"
   ]
  },
  {
   "attachments": {},
   "cell_type": "markdown",
   "id": "49dd0633",
   "metadata": {},
   "source": [
    " $\\color{black}{\\text{b- Concatenaciones}}$  \n",
    "\n",
    "\n",
    "Concatenar significa yuxtaponer. La concatenacion consiste en juntar dos cadenas de caracteres para formar una sola. En Python, la concatenacion se hace utilizando el sımbolo +."
   ]
  },
  {
   "cell_type": "code",
   "execution_count": 7,
   "id": "2bb8be6a",
   "metadata": {},
   "outputs": [
    {
     "name": "stdout",
     "output_type": "stream",
     "text": [
      "Blabla 38\n"
     ]
    }
   ],
   "source": [
    "miCadena=\"Blabla\"\n",
    "i=38\n",
    "print(miCadena + \" \" + str(i) )"
   ]
  },
  {
   "attachments": {},
   "cell_type": "markdown",
   "id": "08e6dbea",
   "metadata": {},
   "source": [
    "#### c-Acceso a los caracteres de una cadena\n",
    "\n",
    "La cadena de caracteres se puede ver como una tabla de caracteres a los que se puede acceder individualmente gracias a su posición, también llamada índice.\n"
   ]
  },
  {
   "cell_type": "code",
   "execution_count": 11,
   "id": "a1a0788f",
   "metadata": {},
   "outputs": [],
   "source": [
    "miCadena=\"Inteligencia artificial\""
   ]
  },
  {
   "cell_type": "code",
   "execution_count": 12,
   "id": "f1108c55",
   "metadata": {},
   "outputs": [
    {
     "data": {
      "text/plain": [
       "'g'"
      ]
     },
     "execution_count": 12,
     "metadata": {},
     "output_type": "execute_result"
    }
   ],
   "source": [
    "miCadena[6]"
   ]
  },
  {
   "cell_type": "code",
   "execution_count": 14,
   "id": "f5de3ee2",
   "metadata": {},
   "outputs": [
    {
     "data": {
      "text/plain": [
       "'i'"
      ]
     },
     "execution_count": 14,
     "metadata": {},
     "output_type": "execute_result"
    }
   ],
   "source": [
    "miCadena[-3]"
   ]
  },
  {
   "cell_type": "code",
   "execution_count": 15,
   "id": "1a7277e3",
   "metadata": {},
   "outputs": [
    {
     "name": "stdout",
     "output_type": "stream",
     "text": [
      "Inteligencia artificial\n",
      "artificial\n",
      "a artificial\n",
      "Inteligencia\n"
     ]
    }
   ],
   "source": [
    "print(miCadena)\n",
    "print(miCadena[-10:])\n",
    "print(miCadena[11:])\n",
    "print(miCadena[0:12])"
   ]
  },
  {
   "attachments": {},
   "cell_type": "markdown",
   "id": "703c7878",
   "metadata": {},
   "source": [
    "$\\color{black}{\\text{d-Algunas funciones útiles. Ejemplos}}$     "
   ]
  },
  {
   "cell_type": "code",
   "execution_count": 16,
   "id": "0275ef06",
   "metadata": {},
   "outputs": [
    {
     "data": {
      "text/plain": [
       "23"
      ]
     },
     "execution_count": 16,
     "metadata": {},
     "output_type": "execute_result"
    }
   ],
   "source": [
    "len(miCadena)"
   ]
  },
  {
   "cell_type": "code",
   "execution_count": 17,
   "id": "3973a172",
   "metadata": {},
   "outputs": [
    {
     "data": {
      "text/plain": [
       "13"
      ]
     },
     "execution_count": 17,
     "metadata": {},
     "output_type": "execute_result"
    }
   ],
   "source": [
    "miCadena.find(\"artificial\")\n"
   ]
  },
  {
   "cell_type": "code",
   "execution_count": 21,
   "id": "12e4cb73",
   "metadata": {},
   "outputs": [
    {
     "name": "stdout",
     "output_type": "stream",
     "text": [
      "26\n"
     ]
    },
    {
     "data": {
      "text/plain": [
       "'Inteligencia artificial'"
      ]
     },
     "execution_count": 21,
     "metadata": {},
     "output_type": "execute_result"
    }
   ],
   "source": [
    "miCadena='Inteligencia artificial   '\n",
    "print(len(miCadena))\n",
    "miCadena.rstrip()"
   ]
  },
  {
   "attachments": {},
   "cell_type": "markdown",
   "id": "0b0728ff",
   "metadata": {},
   "source": [
    "El método $\\color{green}{\\text{rstrip()}}$   devuelve una copia de la cadena eliminando los caracteres finales especificados como argumento. Si no se proporciona el argumento de caracteres, todos los espacios en blanco finales se eliminan de la cadena.\n",
    "Los caracteres finales son aquellos caracteres que aparecen al final de la cadena (la parte más a la derecha de la cadena)."
   ]
  },
  {
   "cell_type": "code",
   "execution_count": 22,
   "id": "81274234",
   "metadata": {},
   "outputs": [
    {
     "data": {
      "text/plain": [
       "'Inteligencia artificial'"
      ]
     },
     "execution_count": 22,
     "metadata": {},
     "output_type": "execute_result"
    }
   ],
   "source": [
    "miCadena=\"Inteligencia artificial----\"\n",
    "miCadena.rstrip('-')"
   ]
  },
  {
   "cell_type": "code",
   "execution_count": 25,
   "id": "ed852b22",
   "metadata": {},
   "outputs": [
    {
     "name": "stdout",
     "output_type": "stream",
     "text": [
      "valor1\n",
      "valor2\n",
      "valor3\n"
     ]
    }
   ],
   "source": [
    "miCadena=\"valor1 valor2 valor3\"\n",
    "a,b,c = miCadena.split()\n",
    "print(a)\n",
    "print(b)\n",
    "print(c)"
   ]
  },
  {
   "attachments": {},
   "cell_type": "markdown",
   "id": "23dd8aeb",
   "metadata": {},
   "source": [
    "$\\color{black}{\\text{e- Otras funciones de cadenas}}$  \n",
    "\n"
   ]
  },
  {
   "cell_type": "code",
   "execution_count": 26,
   "id": "c3d7baea",
   "metadata": {},
   "outputs": [
    {
     "data": {
      "text/plain": [
       "'P'"
      ]
     },
     "execution_count": 26,
     "metadata": {},
     "output_type": "execute_result"
    }
   ],
   "source": [
    "min('Python')\n"
   ]
  },
  {
   "cell_type": "code",
   "execution_count": 27,
   "id": "b4ef8c77",
   "metadata": {},
   "outputs": [
    {
     "data": {
      "text/plain": [
       "'y'"
      ]
     },
     "execution_count": 27,
     "metadata": {},
     "output_type": "execute_result"
    }
   ],
   "source": [
    "max('Python')\n"
   ]
  },
  {
   "cell_type": "code",
   "execution_count": 28,
   "id": "674d9be3",
   "metadata": {},
   "outputs": [
    {
     "data": {
      "text/plain": [
       "'PYTHON'"
      ]
     },
     "execution_count": 28,
     "metadata": {},
     "output_type": "execute_result"
    }
   ],
   "source": [
    "'Python'.upper()\n"
   ]
  },
  {
   "cell_type": "code",
   "execution_count": 29,
   "id": "d050774c",
   "metadata": {},
   "outputs": [
    {
     "data": {
      "text/plain": [
       "['I', 'love', 'Python']"
      ]
     },
     "execution_count": 29,
     "metadata": {},
     "output_type": "execute_result"
    }
   ],
   "source": [
    "'I love Python'.split()"
   ]
  },
  {
   "attachments": {},
   "cell_type": "markdown",
   "id": "1cac38c3",
   "metadata": {},
   "source": [
    " $\\color{black}{\\text{2- Operaciones con cadenas}}$  "
   ]
  },
  {
   "cell_type": "code",
   "execution_count": 30,
   "id": "7ab91afc",
   "metadata": {},
   "outputs": [
    {
     "data": {
      "text/plain": [
       "'Me gustaPython'"
      ]
     },
     "execution_count": 30,
     "metadata": {},
     "output_type": "execute_result"
    }
   ],
   "source": [
    "'Me gusta' + 'Python'"
   ]
  },
  {
   "cell_type": "code",
   "execution_count": 31,
   "id": "79a77987",
   "metadata": {},
   "outputs": [
    {
     "data": {
      "text/plain": [
       "'PythonPythonPython'"
      ]
     },
     "execution_count": 31,
     "metadata": {},
     "output_type": "execute_result"
    }
   ],
   "source": [
    "'Python' * 3"
   ]
  },
  {
   "cell_type": "code",
   "execution_count": 32,
   "id": "c99996ac",
   "metadata": {},
   "outputs": [
    {
     "data": {
      "text/plain": [
       "True"
      ]
     },
     "execution_count": 32,
     "metadata": {},
     "output_type": "execute_result"
    }
   ],
   "source": [
    "'y' in 'Python'"
   ]
  },
  {
   "cell_type": "code",
   "execution_count": 33,
   "id": "acbbdc93",
   "metadata": {},
   "outputs": [
    {
     "data": {
      "text/plain": [
       "True"
      ]
     },
     "execution_count": 33,
     "metadata": {},
     "output_type": "execute_result"
    }
   ],
   "source": [
    "'tho' in 'Python'"
   ]
  },
  {
   "cell_type": "code",
   "execution_count": 34,
   "id": "6bae378f",
   "metadata": {},
   "outputs": [
    {
     "data": {
      "text/plain": [
       "True"
      ]
     },
     "execution_count": 34,
     "metadata": {},
     "output_type": "execute_result"
    }
   ],
   "source": [
    "'to' not in 'Python'"
   ]
  },
  {
   "attachments": {},
   "cell_type": "markdown",
   "id": "2bfadb31",
   "metadata": {},
   "source": [
    "- LISTAS"
   ]
  },
  {
   "attachments": {},
   "cell_type": "markdown",
   "id": "12a37f60",
   "metadata": {},
   "source": [
    "#### 1- Inicialización   \n",
    "\n",
    "Una lista es una variable en la que se pueden introducir muchas variables, al igual que en una lista de la compra. En el ejemplo que aparece más abajo, la lista $\\color{red}{\\text{miLista}}$  contiene tres enteros"
   ]
  },
  {
   "cell_type": "code",
   "execution_count": 35,
   "id": "7d50a779",
   "metadata": {},
   "outputs": [
    {
     "name": "stdout",
     "output_type": "stream",
     "text": [
      "[1, 2, 3]\n"
     ]
    }
   ],
   "source": [
    "miLista = [1,2,3]\n",
    "print(miLista)"
   ]
  },
  {
   "attachments": {},
   "cell_type": "markdown",
   "id": "320a8318",
   "metadata": {},
   "source": [
    "#### 2- Funciones de manipulación de las listas  \n",
    "\n",
    "Para añadir un elemento a una lista, hay que utilizar la función $\\color{red}{\\text{append}}$. Se pueden añadir elementos de tipos distintos a una lista y también se puede añadir una lista dentro de una lista. En nuestro caso, añadimos una cadena de caracteres a nuestra lista inicialmente formada por enteros."
   ]
  },
  {
   "cell_type": "code",
   "execution_count": null,
   "id": "fb7946d2",
   "metadata": {},
   "outputs": [],
   "source": [
    "miLista.append(\"adición\")\n",
    "print(miLista)"
   ]
  },
  {
   "attachments": {},
   "cell_type": "markdown",
   "id": "7ca86358",
   "metadata": {},
   "source": [
    "En el siguiente ejemplo se presentarán diferentes funciones útiles para la manipulación de listas:\n",
    "\n",
    "\t    "
   ]
  },
  {
   "cell_type": "code",
   "execution_count": null,
   "id": "651978af",
   "metadata": {},
   "outputs": [],
   "source": [
    "print(miLista[2])\n",
    "del miLista[1]\n",
    "print(miLista)\n",
    "miLista.remove(\"adición\")\n",
    "print(miLista)\n",
    "print(len(miLista))\n",
    "miLista.append(1)\n",
    "miLista.append(1)\n",
    "miLista.append(1)\n",
    "miLista.append(\"adición\")\n",
    "print(miLista)\n",
    "print(miLista.count('adición'))"
   ]
  },
  {
   "attachments": {},
   "cell_type": "markdown",
   "id": "64744da9",
   "metadata": {},
   "source": [
    "Agregar un elemento en una posicion determinada"
   ]
  },
  {
   "cell_type": "code",
   "execution_count": null,
   "id": "52cf85f2",
   "metadata": {},
   "outputs": [],
   "source": [
    "print(miLista)\n",
    "miLista.insert(3,5)\n",
    "print(miLista)"
   ]
  },
  {
   "attachments": {},
   "cell_type": "markdown",
   "id": "c6c72b60",
   "metadata": {},
   "source": [
    "- LAS TUPLAS Y LOS DICCIONARIOS "
   ]
  },
  {
   "attachments": {},
   "cell_type": "markdown",
   "id": "32c51239",
   "metadata": {},
   "source": [
    "$\\color{black}{\\text{1- Tuplas}}$   \n",
    "\n",
    "Las tuplas también son listas, pero estas no se pueden modificar. Este tipo de listas están destinadas a usarse como una constante en la aplicación.\n",
    "\n",
    "Para crear las tuplas se utilizan paréntesis, mientras que en la creación de listas se utilizan corchetes.\n",
    "\t   "
   ]
  },
  {
   "cell_type": "code",
   "execution_count": null,
   "id": "9e5896d9",
   "metadata": {},
   "outputs": [],
   "source": [
    "miTupla=('a','b','c',1)\n",
    "print(miTupla)\n",
    "print(miTupla[2])"
   ]
  },
  {
   "attachments": {},
   "cell_type": "markdown",
   "id": "b3487f66",
   "metadata": {},
   "source": [
    "$\\color{black}{\\text{2- Los diccionarios}}$ \n",
    "\n",
    "Los diccionarios son listas modificables, pero el acceso a los datos se hace mediante claves. En nuestro ejemplo, hemos creado un diccionario $\\color{red}{\\text{miDiccionario}}$ en el que todos los valores se han definido con ayuda de claves, $\\color{red}{\\text{nombre}}$ y $\\color{red}{\\text{apellido}}$ y al que se accede mediante la función $\\color{red}{\\text{get}}$."
   ]
  },
  {
   "cell_type": "code",
   "execution_count": null,
   "id": "b4475109",
   "metadata": {},
   "outputs": [],
   "source": [
    "miDiccionario = {\"nombre\":\"minombre\",\"apellido\":\"miApellido\"}\n",
    "print(miDiccionario.get(\"apellido\"))\n",
    "print(miDiccionario.get(\"nombre\"))"
   ]
  },
  {
   "attachments": {},
   "cell_type": "markdown",
   "id": "d8bf8669",
   "metadata": {},
   "source": [
    "- CLASE DE UN DATO"
   ]
  },
  {
   "cell_type": "code",
   "execution_count": null,
   "id": "076b8177",
   "metadata": {},
   "outputs": [],
   "source": [
    "print('Hola')\n",
    "print('Alumnos')\n",
    "2+3"
   ]
  },
  {
   "cell_type": "code",
   "execution_count": null,
   "id": "69f0f8fd",
   "metadata": {},
   "outputs": [],
   "source": [
    "type(\"Hola\")\n"
   ]
  },
  {
   "cell_type": "code",
   "execution_count": null,
   "id": "404e335f",
   "metadata": {},
   "outputs": [],
   "source": [
    "type({'pi':3.1416, 'e':2.718})\n"
   ]
  },
  {
   "cell_type": "code",
   "execution_count": null,
   "id": "7b216a9d",
   "metadata": {},
   "outputs": [],
   "source": [
    "type((1, 'dos', 3))"
   ]
  },
  {
   "attachments": {},
   "cell_type": "markdown",
   "id": "1102e4c8",
   "metadata": {},
   "source": [
    "- NÚMEROS"
   ]
  },
  {
   "attachments": {},
   "cell_type": "markdown",
   "id": "8763beba",
   "metadata": {},
   "source": [
    "1-  Números ( clases $\\color{red}{\\text{int}}$ y  $\\color{red}{\\text{float}}$ ) \n",
    "\n",
    "Secuencia de dígitos (pueden incluir el - para negativos y el . para decimales) que representan números. Pueden ser enteros ($\\color{red}{\\text{int}}$) o reales ($\\color{red}{\\text{float}}$)."
   ]
  },
  {
   "cell_type": "code",
   "execution_count": null,
   "id": "869851c0",
   "metadata": {},
   "outputs": [],
   "source": [
    "type(1)"
   ]
  },
  {
   "cell_type": "code",
   "execution_count": null,
   "id": "93c75abe",
   "metadata": {},
   "outputs": [],
   "source": [
    "type(-2)"
   ]
  },
  {
   "cell_type": "code",
   "execution_count": null,
   "id": "48a0922f",
   "metadata": {},
   "outputs": [],
   "source": [
    "type(2.3)"
   ]
  },
  {
   "attachments": {},
   "cell_type": "markdown",
   "id": "8b78e78b",
   "metadata": {},
   "source": [
    " $\\color{black}{\\text{2 - Operadores aritméticos}}$ "
   ]
  },
  {
   "cell_type": "code",
   "execution_count": null,
   "id": "9a56828b",
   "metadata": {},
   "outputs": [],
   "source": [
    "var=2+3\n",
    "print('Hola mundo')\n",
    "print(var)"
   ]
  },
  {
   "cell_type": "code",
   "execution_count": null,
   "id": "60e258ac",
   "metadata": {},
   "outputs": [],
   "source": [
    "5*-2"
   ]
  },
  {
   "cell_type": "code",
   "execution_count": null,
   "id": "3f7100d4",
   "metadata": {},
   "outputs": [],
   "source": [
    "5/2"
   ]
  },
  {
   "cell_type": "code",
   "execution_count": null,
   "id": "6b4a323b",
   "metadata": {},
   "outputs": [],
   "source": [
    "5//2"
   ]
  },
  {
   "cell_type": "code",
   "execution_count": null,
   "id": "895d23de",
   "metadata": {},
   "outputs": [],
   "source": [
    "(2+3)**2"
   ]
  },
  {
   "attachments": {},
   "cell_type": "markdown",
   "id": "ce074960",
   "metadata": {},
   "source": [
    "  $\\color{black}{\\text{3 - Operadores lógicos con numeros}}$"
   ]
  },
  {
   "cell_type": "code",
   "execution_count": null,
   "id": "97e8fc87",
   "metadata": {},
   "outputs": [],
   "source": [
    "3 ==3"
   ]
  },
  {
   "cell_type": "code",
   "execution_count": null,
   "id": "fe308c7d",
   "metadata": {},
   "outputs": [],
   "source": [
    "3.1<=3"
   ]
  },
  {
   "cell_type": "code",
   "execution_count": null,
   "id": "97381cf5",
   "metadata": {},
   "outputs": [],
   "source": [
    "1!=1"
   ]
  },
  {
   "attachments": {},
   "cell_type": "markdown",
   "id": "a24cf743",
   "metadata": {},
   "source": [
    "- LAS ESTRUCTURAS CONDICIONALES Y LOS BUCLES"
   ]
  },
  {
   "attachments": {},
   "cell_type": "markdown",
   "id": "8a945cf4",
   "metadata": {},
   "source": [
    "$\\color{black}{\\text{1- Las estructuras condicionales}}$ "
   ]
  },
  {
   "cell_type": "code",
   "execution_count": null,
   "id": "8173b7d3",
   "metadata": {},
   "outputs": [],
   "source": [
    "edad=8\n",
    "if edad<18:\n",
    "    print('eres menor de edad')\n",
    "else:\n",
    "    print('eres mayor de edad')    "
   ]
  },
  {
   "attachments": {},
   "cell_type": "markdown",
   "id": "73c6161a",
   "metadata": {},
   "source": [
    "$\\color{black}{\\text{2- Los bucles }}$  "
   ]
  },
  {
   "cell_type": "code",
   "execution_count": null,
   "id": "7da903e8",
   "metadata": {},
   "outputs": [],
   "source": [
    "miContador=0\n",
    "while miContador<=5:\n",
    "    print(miContador)\n",
    "    miContador = miContador +1 "
   ]
  },
  {
   "cell_type": "code",
   "execution_count": null,
   "id": "4cc772cb",
   "metadata": {},
   "outputs": [],
   "source": [
    "miCadena='I.A'\n",
    "for letra in miCadena:\n",
    "    print(letra)"
   ]
  },
  {
   "cell_type": "code",
   "execution_count": null,
   "id": "d167839d",
   "metadata": {},
   "outputs": [],
   "source": [
    "listaEdades=[8,5,10,35,7,25]\n",
    "for edad in listaEdades:\n",
    "    if edad>15:\n",
    "        print(\"Fin del bucle\")\n",
    "        break\n",
    "    print(edad)\n",
    "    "
   ]
  },
  {
   "cell_type": "code",
   "execution_count": null,
   "id": "e9cd4cf6",
   "metadata": {},
   "outputs": [],
   "source": [
    "for numero in range(0,5):\n",
    "    print(numero)"
   ]
  },
  {
   "attachments": {},
   "cell_type": "markdown",
   "id": "cbf5ceaf",
   "metadata": {},
   "source": [
    "- ENTRADA Y SALIDA POR TERMINAL"
   ]
  },
  {
   "attachments": {},
   "cell_type": "markdown",
   "id": "bf3fc0b4",
   "metadata": {},
   "source": [
    "$\\color{black}{\\text{1- Entrada por terminal (input())}}$  "
   ]
  },
  {
   "cell_type": "code",
   "execution_count": null,
   "id": "0c670a20",
   "metadata": {},
   "outputs": [],
   "source": [
    "languaje = input('¿Cuál es tu lenguaje favorito? ')\n"
   ]
  },
  {
   "cell_type": "code",
   "execution_count": null,
   "id": "2d89f508",
   "metadata": {},
   "outputs": [],
   "source": [
    "languaje"
   ]
  },
  {
   "cell_type": "code",
   "execution_count": null,
   "id": "dd601284",
   "metadata": {},
   "outputs": [],
   "source": [
    "age = int(input('¿Cuál es tu edad?'))"
   ]
  },
  {
   "cell_type": "code",
   "execution_count": null,
   "id": "3b3ea451",
   "metadata": {},
   "outputs": [],
   "source": [
    "age"
   ]
  },
  {
   "attachments": {},
   "cell_type": "markdown",
   "id": "06b9798d",
   "metadata": {},
   "source": [
    "$\\color{black}{\\text{2- Salida por terminal (print())}}$  "
   ]
  },
  {
   "cell_type": "code",
   "execution_count": null,
   "id": "6df45e2c",
   "metadata": {},
   "outputs": [],
   "source": [
    "print('Hola')"
   ]
  },
  {
   "cell_type": "code",
   "execution_count": null,
   "id": "a146f2d0",
   "metadata": {},
   "outputs": [],
   "source": [
    "name= 'Alf'"
   ]
  },
  {
   "cell_type": "code",
   "execution_count": null,
   "id": "d3556942",
   "metadata": {},
   "outputs": [],
   "source": [
    "print('Hola',name)"
   ]
  },
  {
   "cell_type": "code",
   "execution_count": null,
   "id": "e94fadc7",
   "metadata": {},
   "outputs": [],
   "source": [
    "print('El valor de pi es',3.145)"
   ]
  },
  {
   "cell_type": "code",
   "execution_count": null,
   "id": "86077662",
   "metadata": {},
   "outputs": [],
   "source": [
    "print('Hola',name,sep='+')"
   ]
  },
  {
   "cell_type": "code",
   "execution_count": null,
   "id": "676560cd",
   "metadata": {},
   "outputs": [],
   "source": [
    "print('Hola',name,end='!\\n')"
   ]
  },
  {
   "cell_type": "code",
   "execution_count": null,
   "id": "1bac317e",
   "metadata": {},
   "outputs": [],
   "source": []
  }
 ],
 "metadata": {
  "kernelspec": {
   "display_name": "Python 3 (ipykernel)",
   "language": "python",
   "name": "python3"
  },
  "language_info": {
   "codemirror_mode": {
    "name": "ipython",
    "version": 3
   },
   "file_extension": ".py",
   "mimetype": "text/x-python",
   "name": "python",
   "nbconvert_exporter": "python",
   "pygments_lexer": "ipython3",
   "version": "3.11.2"
  }
 },
 "nbformat": 4,
 "nbformat_minor": 5
}
