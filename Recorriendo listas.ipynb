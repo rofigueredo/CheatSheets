{
 "cells": [
  {
   "cell_type": "markdown",
   "id": "ae575b90",
   "metadata": {},
   "source": [
    "- f-strings"
   ]
  },
  {
   "cell_type": "markdown",
   "id": "c27ca820",
   "metadata": {},
   "source": [
    "1- Ejemplo de una f-string"
   ]
  },
  {
   "cell_type": "code",
   "execution_count": null,
   "id": "fcdf3079",
   "metadata": {},
   "outputs": [],
   "source": [
    "lenguaje = \"Python\"\n",
    "escuela = \"freeCodeCamp\"\n",
    "print(f\"Estoy aprendiendo {lenguaje} en {escuela}.\")"
   ]
  },
  {
   "cell_type": "markdown",
   "id": "7c570499",
   "metadata": {},
   "source": [
    "2- Como evaluar expresiones en Python con f-Strings"
   ]
  },
  {
   "cell_type": "code",
   "execution_count": null,
   "id": "2f57ec74",
   "metadata": {},
   "outputs": [],
   "source": [
    "num1 = 83\n",
    "num2 = 9\n",
    "print(f\"El producto de {num1} y {num2} es {num1 * num2}.\")"
   ]
  },
  {
   "cell_type": "markdown",
   "id": "3f5626b3",
   "metadata": {},
   "source": [
    "3- Ejemplo sencillo utilizando el operador ternario"
   ]
  },
  {
   "cell_type": "code",
   "execution_count": null,
   "id": "05d65fe3",
   "metadata": {},
   "outputs": [],
   "source": [
    "num = 87\n",
    "print(f\"¿num es par? {True if num%2==0 else False}\")"
   ]
  },
  {
   "cell_type": "code",
   "execution_count": null,
   "id": "79d5531b",
   "metadata": {},
   "outputs": [],
   "source": [
    "num = 10\n",
    "print(f\"¿num es par? {True if num%2==0 else False}\")"
   ]
  },
  {
   "cell_type": "markdown",
   "id": "b2bd0a34",
   "metadata": {},
   "source": [
    "4- Como llamar funciones dentro de f-Strings en Python"
   ]
  },
  {
   "cell_type": "code",
   "execution_count": null,
   "id": "d3458a0a",
   "metadata": {},
   "outputs": [],
   "source": [
    "def opcion(o):\n",
    "    if o%2 ==0:\n",
    "        return \"aprende Python!\"\n",
    "    else:\n",
    "        return \"aprende JavaScript!\""
   ]
  },
  {
   "cell_type": "code",
   "execution_count": null,
   "id": "5b4d0351",
   "metadata": {},
   "outputs": [],
   "source": [
    "print(f\"Hola Python, dime que deberia aprender. {opcion(3)}\")"
   ]
  },
  {
   "cell_type": "markdown",
   "id": "77ee27a3",
   "metadata": {},
   "source": [
    "- Cómo Recorrer Varias Listas a la Vez en Python"
   ]
  },
  {
   "cell_type": "markdown",
   "id": "bbe8adba",
   "metadata": {},
   "source": [
    "1- Recorrer dos listas a la vez con zip"
   ]
  },
  {
   "cell_type": "code",
   "execution_count": null,
   "id": "91c7140a",
   "metadata": {},
   "outputs": [],
   "source": [
    "lista_a = [1, 2, 3]\n",
    "lista_b = [4, 5, 6]\n",
    "\n",
    "\n",
    "for tupla in zip(lista_a, lista_b): #obtenemos la tupla en cada iteración\n",
    "    print(tupla[0], tupla[1])\n",
    "\n",
    "for valor_a, valor_b in zip(lista_a, lista_b): #obtenemos los valores en cada iteración\n",
    "    print(valor_a, valor_b)"
   ]
  },
  {
   "cell_type": "code",
   "execution_count": null,
   "id": "3cb715b1",
   "metadata": {},
   "outputs": [],
   "source": [
    "combinada = list(zip(lista_a, lista_b))\n",
    "print(combinada)"
   ]
  },
  {
   "cell_type": "markdown",
   "id": "791902bb",
   "metadata": {},
   "source": [
    "2- Recorrer dos listas a la vez con enumerate"
   ]
  },
  {
   "cell_type": "code",
   "execution_count": null,
   "id": "48789e56",
   "metadata": {},
   "outputs": [],
   "source": [
    "lista = ['Código', 'Pitón', 'www.codigopiton.com']\n",
    "\n",
    "for indice, valor in enumerate(lista):\n",
    "    print(f'El valor de la posición {indice} es {valor}')"
   ]
  },
  {
   "cell_type": "code",
   "execution_count": null,
   "id": "3e2e5a2a",
   "metadata": {},
   "outputs": [],
   "source": [
    "lista_a = [1, 2, 3]\n",
    "lista_b = [4, 5, 6]\n",
    "\n",
    "for indice, valor_a in enumerate(lista_a):\n",
    "    print(valor_a, lista_b[indice])"
   ]
  },
  {
   "cell_type": "markdown",
   "id": "223033b1",
   "metadata": {},
   "source": [
    "3- Recorrer dos listas a la vez por índice"
   ]
  },
  {
   "cell_type": "markdown",
   "id": "f8c8c78e",
   "metadata": {},
   "source": [
    "3.1 Primera Opción "
   ]
  },
  {
   "cell_type": "code",
   "execution_count": null,
   "id": "baadca89",
   "metadata": {},
   "outputs": [],
   "source": [
    "lista_a = [1, 2, 3]\n",
    "lista_b = [4, 5, 6]\n",
    "\n",
    "for indice in range(0, len(lista_a)):\n",
    "    print(lista_a[indice], lista_b[indice])"
   ]
  },
  {
   "cell_type": "markdown",
   "id": "c2923f2b",
   "metadata": {},
   "source": [
    "3.2 Segunda Opción"
   ]
  },
  {
   "cell_type": "code",
   "execution_count": null,
   "id": "ba9911cb",
   "metadata": {},
   "outputs": [],
   "source": [
    "indice = 0 # 0 es la primera posición\n",
    "\n",
    "while indice < len(lista_a): # repetimos mientras no hayamos llegado al final de las listas\n",
    "    print(lista_a[indice], lista_b[indice])\n",
    "    indice += 1 #incrementamos el índice en una unidad"
   ]
  },
  {
   "cell_type": "markdown",
   "id": "876d7b91",
   "metadata": {},
   "source": [
    "4- Cuidado con los límites de las listas y con el manejo y recorrido de listas de diferentes tamaños"
   ]
  },
  {
   "cell_type": "code",
   "execution_count": null,
   "id": "cd0475b2",
   "metadata": {},
   "outputs": [],
   "source": [
    "longitud_minima = min(len(lista_a), len(lista_b))\n",
    "print(longitud_minima)"
   ]
  },
  {
   "cell_type": "markdown",
   "id": "ec32cb95",
   "metadata": {},
   "source": [
    "5- Recorrer más de dos listas a la vez"
   ]
  },
  {
   "cell_type": "markdown",
   "id": "f8854365",
   "metadata": {},
   "source": [
    "5.1 La función zip puede recibir más de dos listas como parámetro"
   ]
  },
  {
   "cell_type": "code",
   "execution_count": null,
   "id": "7033d4ca",
   "metadata": {},
   "outputs": [],
   "source": [
    "lista_a = [1, 2, 3]\n",
    "lista_b = [4, 5, 6]\n",
    "lista_c = [7, 8, 9]\n",
    "lista_d = [10, 11, 12]\n",
    "\n",
    "for tupla in zip(lista_a, lista_b, lista_c, lista_d):\n",
    "    print(tupla[0], tupla[1], tupla[2], tupla[3])"
   ]
  },
  {
   "cell_type": "markdown",
   "id": "58b20927",
   "metadata": {},
   "source": [
    "5.2 Combinar el uso de enumerate y el de zip "
   ]
  },
  {
   "cell_type": "code",
   "execution_count": null,
   "id": "46cc7490",
   "metadata": {},
   "outputs": [],
   "source": [
    "lista_a = [1, 2, 3]\n",
    "lista_b = [4, 5, 6]\n",
    "lista_c = [7, 8, 9]\n",
    "lista_d = [10, 11, 12]\n",
    "\n",
    "for indice, tupla in enumerate(zip(lista_a, lista_b, lista_c, lista_d)):\n",
    "    print(tupla[0], tupla[1], tupla[2], tupla[3])\n",
    "    #podemos acceder a través del índice también\n",
    "    print(lista_a[indice], lista_b[indice], lista_c[indice], lista_d[indice])"
   ]
  },
  {
   "cell_type": "markdown",
   "id": "c009cd2e",
   "metadata": {},
   "source": [
    "5.3 Recorrer las listas utilizando directamente los índices"
   ]
  },
  {
   "cell_type": "code",
   "execution_count": null,
   "id": "0376ae61",
   "metadata": {},
   "outputs": [],
   "source": [
    "lista_a = [1, 2, 3]\n",
    "lista_b = [4, 5, 6]\n",
    "lista_c = [7, 8, 9]\n",
    "\n",
    "# recorrido con for\n",
    "for indice in range(0, len(lista_a)):\n",
    "    print(lista_a[indice], lista_b[indice], lista_c[indice])\n",
    "\n",
    "#recorrido con while\n",
    "indice = 0\n",
    "while indice < len(lista_a): \n",
    "    print(lista_a[indice], lista_b[indice], lista_c[indice])\n",
    "    indice += 1 "
   ]
  },
  {
   "cell_type": "markdown",
   "id": "23ef3e8e",
   "metadata": {},
   "source": [
    "6- Agregar los datos"
   ]
  },
  {
   "cell_type": "code",
   "execution_count": null,
   "id": "85fb8a7d",
   "metadata": {},
   "outputs": [],
   "source": [
    "# opción \"fea\" que implica un recorrido múltiple y datos no asociados\n",
    "alumnos = ['Juan', 'Pepe', 'Alfredo']\n",
    "calificaciones = [5, 6.8, 4.5]\n",
    "\n",
    "# opción \"bonita\" que permite un recorrido sencillo y datos asociados\n",
    "alumnos = [['Juan', 5], ['Pepe', 6.8], ['Alfredo', 4.5]]\n",
    "\n",
    "for alumno in alumnos:\n",
    "    print(f'Nombre: {alumno[0]} - Calificación: {alumno[1]}')"
   ]
  },
  {
   "cell_type": "markdown",
   "id": "6cf3ce1f",
   "metadata": {},
   "source": [
    "- Cómo Convertir un Número Decimal en Binario en Python"
   ]
  },
  {
   "cell_type": "markdown",
   "id": "1f2b61a6",
   "metadata": {},
   "source": [
    "1 Paso 1: Hacer la división entera del número decimal entre 2"
   ]
  },
  {
   "cell_type": "markdown",
   "id": "14bdb824",
   "metadata": {},
   "source": [
    "Al hacer una división entera con la doble barra obtendrás el cociente. Vamos a ver unos ejemplos donde, como podrás observar, el resultado es el cociente."
   ]
  },
  {
   "cell_type": "code",
   "execution_count": null,
   "id": "23003ad5",
   "metadata": {},
   "outputs": [],
   "source": [
    "10 // 4 "
   ]
  },
  {
   "cell_type": "code",
   "execution_count": null,
   "id": "a4d268e2",
   "metadata": {},
   "outputs": [],
   "source": [
    "6 // 3"
   ]
  },
  {
   "cell_type": "markdown",
   "id": "88a43f75",
   "metadata": {},
   "source": [
    "Vamos a ver los mismos ejemplos de antes pero obteniendo los módulos esta vez:"
   ]
  },
  {
   "cell_type": "code",
   "execution_count": null,
   "id": "99914444",
   "metadata": {},
   "outputs": [],
   "source": [
    "10 % 4 "
   ]
  },
  {
   "cell_type": "code",
   "execution_count": null,
   "id": "25cf8634",
   "metadata": {},
   "outputs": [],
   "source": [
    "6 % 3"
   ]
  },
  {
   "cell_type": "markdown",
   "id": "eac2f2e4",
   "metadata": {},
   "source": [
    "Podemos comprobar que son correctas con la típica prueba de la división que nos dice “dividendo es igual a divisor por cociente más resto”."
   ]
  },
  {
   "cell_type": "code",
   "execution_count": null,
   "id": "cc729f81",
   "metadata": {},
   "outputs": [],
   "source": [
    "10 == 4 * (10 // 4) + (10 % 4)"
   ]
  },
  {
   "cell_type": "code",
   "execution_count": null,
   "id": "a4d3f218",
   "metadata": {},
   "outputs": [],
   "source": [
    " 6 == 3 * (6 // 3) + (6 % 3)"
   ]
  },
  {
   "cell_type": "markdown",
   "id": "4541490a",
   "metadata": {},
   "source": [
    "2 Paso 2 y Paso 3 "
   ]
  },
  {
   "cell_type": "code",
   "execution_count": null,
   "id": "1d189ccf",
   "metadata": {},
   "outputs": [],
   "source": [
    "numero_decimal = 29 # este es el número que queremos convertir a binario\n",
    "\n",
    "modulos = [] # la lista para guardar los módulos\n",
    "\n",
    "while numero_decimal != 0: # mientras el número de entrada sea diferente de cero\n",
    "    # paso 1: dividimos entre 2\n",
    "    modulo = numero_decimal % 2\n",
    "    cociente = numero_decimal // 2\n",
    "    modulos.append(modulo) # guardamos el módulo calculado\n",
    "    numero_decimal = cociente # el cociente pasa a ser el número de entrada\n",
    "\n",
    "print(modulos)"
   ]
  },
  {
   "cell_type": "markdown",
   "id": "f9e28eb9",
   "metadata": {},
   "source": [
    "Código optimizado"
   ]
  },
  {
   "cell_type": "code",
   "execution_count": null,
   "id": "a7020478",
   "metadata": {},
   "outputs": [],
   "source": [
    "numero_decimal = 29 # este es el número que queremos convertir a binario\n",
    "\n",
    "modulos = [] # la lista para guardar los módulos\n",
    "\n",
    "while numero_decimal != 0: # mientras el número de entrada sea diferente de cero\n",
    "    modulos.append(numero_decimal % 2) # se obtiene el módulo y se almacena\n",
    "    numero_decimal //= 2 # el cociente pasa a ser el número de entrada"
   ]
  },
  {
   "cell_type": "code",
   "execution_count": null,
   "id": "fc6332c4",
   "metadata": {},
   "outputs": [],
   "source": [
    "print(modulos)"
   ]
  },
  {
   "cell_type": "markdown",
   "id": "d7afd6f6",
   "metadata": {},
   "source": [
    "3 Paso 4: Invertir los módulos guardado"
   ]
  },
  {
   "cell_type": "markdown",
   "id": "72047d52",
   "metadata": {},
   "source": [
    "La función insert necesita dos parámetros, el primero de ellos es la posición o índice en la que queremos insertar el nuevo elemento y el segundo es el propio elemento:"
   ]
  },
  {
   "cell_type": "code",
   "execution_count": null,
   "id": "a8925562",
   "metadata": {},
   "outputs": [],
   "source": [
    "lista = [] \n",
    "lista.insert(0, 1)\n",
    "lista.insert(0, 2) \n",
    "lista.insert(0, 3) \n",
    "print(lista) "
   ]
  },
  {
   "cell_type": "markdown",
   "id": "440a4ae3",
   "metadata": {},
   "source": [
    "Adaptemos, entonces, nuestro código para guardar los módulos en el orden correcto:"
   ]
  },
  {
   "cell_type": "code",
   "execution_count": null,
   "id": "f2e2c23b",
   "metadata": {},
   "outputs": [],
   "source": [
    "numero_decimal = 29\n",
    "\n",
    "modulos = []\n",
    "while numero_decimal != 0:\n",
    "    # se almacena el módulo en el orden correcto\n",
    "    modulos.insert(0, numero_decimal % 2)\n",
    "    numero_decimal //= 2\n",
    "\n",
    "print(modulos)"
   ]
  },
  {
   "cell_type": "markdown",
   "id": "c11637e2",
   "metadata": {},
   "source": [
    "4 Paso 5: Concatenar los módulos para obtener el número binario final"
   ]
  },
  {
   "cell_type": "code",
   "execution_count": null,
   "id": "3ac6e0bd",
   "metadata": {},
   "outputs": [],
   "source": [
    "numero_decimal = 29\n",
    "\n",
    "numero_binario = 0\n",
    "multiplicador = 1\n",
    "\n",
    "while numero_decimal != 0: # paso 3\n",
    "    # pasos 1, 4 y 5 se multiplica el módulo por su multiplicador\n",
    "    numero_binario = numero_binario + numero_decimal % 2 * multiplicador\n",
    "    numero_decimal //= 2 # paso 1\n",
    "    multiplicador *= 10 # paso 5\n",
    "\n",
    "print(numero_binario)"
   ]
  },
  {
   "cell_type": "markdown",
   "id": "dcc268f5",
   "metadata": {},
   "source": [
    "5 Paso 6 (opcional)"
   ]
  },
  {
   "cell_type": "markdown",
   "id": "9482399a",
   "metadata": {},
   "source": [
    "5.1  Encapsular el algoritmo en una función de conversión de decimal a binario"
   ]
  },
  {
   "cell_type": "code",
   "execution_count": null,
   "id": "df910f5c",
   "metadata": {},
   "outputs": [],
   "source": [
    "def decimal_a_binario(numero_decimal):\n",
    "    numero_binario = 0\n",
    "    multiplicador = 1\n",
    "\n",
    "    while numero_decimal != 0:\n",
    "        # se almacena el módulo en el orden correcto\n",
    "        numero_binario = numero_binario + numero_decimal % 2 * multiplicador\n",
    "        numero_decimal //= 2\n",
    "        multiplicador *= 10\n",
    "\n",
    "    return numero_binario"
   ]
  },
  {
   "cell_type": "markdown",
   "id": "64ccfa98",
   "metadata": {},
   "source": [
    "5.2 Ejemplos de uso"
   ]
  },
  {
   "cell_type": "code",
   "execution_count": null,
   "id": "944423f8",
   "metadata": {},
   "outputs": [],
   "source": [
    "print(decimal_a_binario(5))\n",
    "print(decimal_a_binario(35))\n",
    "print(decimal_a_binario(22301))"
   ]
  },
  {
   "cell_type": "markdown",
   "id": "f63f89a0",
   "metadata": {},
   "source": [
    "6 Alternativa"
   ]
  },
  {
   "cell_type": "code",
   "execution_count": null,
   "id": "7250c1f7",
   "metadata": {},
   "outputs": [],
   "source": [
    "bin(29)  "
   ]
  },
  {
   "cell_type": "code",
   "execution_count": null,
   "id": "502a094e",
   "metadata": {},
   "outputs": [],
   "source": [
    "bin(5)  "
   ]
  },
  {
   "cell_type": "code",
   "execution_count": null,
   "id": "1fd538fb",
   "metadata": {},
   "outputs": [],
   "source": [
    "bin(14)"
   ]
  },
  {
   "cell_type": "markdown",
   "id": "07aa612e",
   "metadata": {},
   "source": [
    "- Cómo convertir un número decimal a otro en cualquier base"
   ]
  },
  {
   "cell_type": "markdown",
   "id": "241d0f16",
   "metadata": {},
   "source": [
    "1 Código "
   ]
  },
  {
   "cell_type": "code",
   "execution_count": null,
   "id": "40d27e60",
   "metadata": {},
   "outputs": [],
   "source": [
    "def decimal_a_base(numero_decimal, base):\n",
    "    numero_binario = 0\n",
    "    multiplicador = 1\n",
    "\n",
    "    while numero_decimal != 0:\n",
    "        # dividimos por la base indicada\n",
    "        numero_binario = numero_binario + numero_decimal % base * multiplicador\n",
    "        numero_decimal //= base\n",
    "        multiplicador *= 10\n",
    "    return numero_binario"
   ]
  },
  {
   "cell_type": "markdown",
   "id": "b21306bf",
   "metadata": {},
   "source": [
    "2 Ejemplos de uso"
   ]
  },
  {
   "cell_type": "code",
   "execution_count": null,
   "id": "22f71495",
   "metadata": {},
   "outputs": [],
   "source": [
    "print(f'5 en base 3 es {decimal_a_base(5, 3)}')\n",
    "print(f'35 en base 8 es {decimal_a_base(35, 8)}')\n",
    "print(f'7 en base 7 es {decimal_a_base(7, 7)}')"
   ]
  },
  {
   "cell_type": "markdown",
   "id": "0fd9cd14",
   "metadata": {},
   "source": [
    "3 Función para obtener el número correcto en cualquier base"
   ]
  },
  {
   "cell_type": "code",
   "execution_count": null,
   "id": "94c0ae09",
   "metadata": {},
   "outputs": [],
   "source": [
    "def decimal_a_base(numero_decimal, base):\n",
    "    \n",
    "    if base == 10:\n",
    "        return numero_decimal\n",
    "    \n",
    "    numero_binario = 0\n",
    "    longitud_base = len(str(base))\n",
    "    multiplicador = 1\n",
    "\n",
    "    while numero_decimal != 0:\n",
    "        # dividimos por la base indicada\n",
    "        numero_binario = numero_binario + numero_decimal % base * multiplicador\n",
    "        numero_decimal //= base\n",
    "        multiplicador *= 10 ** longitud_base\n",
    "\n",
    "    return numero_binario"
   ]
  },
  {
   "cell_type": "code",
   "execution_count": null,
   "id": "124f473d",
   "metadata": {},
   "outputs": [],
   "source": [
    "decimal_a_base(491, 27)"
   ]
  },
  {
   "cell_type": "markdown",
   "id": "428d3052",
   "metadata": {},
   "source": [
    "- Cómo Convertir un Número Binario en Decimal en Python"
   ]
  },
  {
   "cell_type": "markdown",
   "id": "716a6230",
   "metadata": {},
   "source": [
    "1 Paso 1: Determinar el formato del número binario"
   ]
  },
  {
   "cell_type": "code",
   "execution_count": null,
   "id": "44b70f0a",
   "metadata": {},
   "outputs": [],
   "source": [
    "valor_numerico = 1010110 #un número que queremos interpretar como si fuera binario\n",
    "\n",
    "valor_string = str(valor_numerico)\n",
    "valor_string"
   ]
  },
  {
   "cell_type": "markdown",
   "id": "9a69a499",
   "metadata": {},
   "source": [
    "2 Paso 2: Recorrer los dígitos del número binario"
   ]
  },
  {
   "cell_type": "code",
   "execution_count": null,
   "id": "be113c3f",
   "metadata": {},
   "outputs": [],
   "source": [
    "numero_binario = '1010110'\n",
    "\n",
    "for digito_string in numero_binario:\n",
    "    digito = int(digito_string)\n",
    "    print(digito)"
   ]
  },
  {
   "cell_type": "markdown",
   "id": "89c9edd6",
   "metadata": {},
   "source": [
    "3 Paso 3: calcular la posición de cada dígito"
   ]
  },
  {
   "cell_type": "markdown",
   "id": "8a29320a",
   "metadata": {},
   "source": [
    "3.1 Primer Código"
   ]
  },
  {
   "cell_type": "code",
   "execution_count": null,
   "id": "6694c70f",
   "metadata": {},
   "outputs": [],
   "source": [
    "numero_binario = '1010110'\n",
    "\n",
    "posicion = len(numero_binario) - 1 #posición del primer dígito por la izquierda\n",
    "\n",
    "for digito_string in numero_binario:\n",
    "    digito = int(digito_string)\n",
    "    print(f'Dígito: {digito}, posición: {posicion}')\n",
    "    posicion -= 1 # restamos 1 a la posición"
   ]
  },
  {
   "cell_type": "markdown",
   "id": "41e79eb3",
   "metadata": {},
   "source": [
    "3.2 Código Elegante"
   ]
  },
  {
   "cell_type": "code",
   "execution_count": null,
   "id": "a49cbe39",
   "metadata": {},
   "outputs": [],
   "source": [
    "numero_binario = '1010110'\n",
    "\n",
    "for posicion, digito_string in enumerate(numero_binario[::-1]):\n",
    "    digito = int(digito_string)\n",
    "    print(f'Dígito: {digito}, posición: {posicion}')"
   ]
  },
  {
   "cell_type": "markdown",
   "id": "341f5673",
   "metadata": {},
   "source": [
    "4 Paso 4: multiplicar cada dígito por 2 elevado a su posición"
   ]
  },
  {
   "cell_type": "code",
   "execution_count": null,
   "id": "04076387",
   "metadata": {},
   "outputs": [],
   "source": [
    "numero_binario = '1010110'\n",
    "\n",
    "for posicion, digito_string in enumerate(numero_binario[::-1]):\n",
    "    digito = int(digito_string)\n",
    "    multiplicacion = digito * 2 ** posicion;\n",
    "    print(f'Dígito: {digito}, posición: {posicion}, multiplicación: {multiplicacion}')"
   ]
  },
  {
   "cell_type": "markdown",
   "id": "e66d3e18",
   "metadata": {},
   "source": [
    "5 Paso 5: sumar el resultado de todas las multiplicaciones"
   ]
  },
  {
   "cell_type": "code",
   "execution_count": null,
   "id": "3c8e849c",
   "metadata": {},
   "outputs": [],
   "source": [
    "numero_binario = '1010110'\n",
    "\n",
    "numero_decimal = 0 #aquí iremos sumando el resultado de cada multiplicación\n",
    "\n",
    "for posicion, digito_string in enumerate(numero_binario[::-1]):\n",
    "    numero_decimal += int(digito_string) * 2 ** posicion\n",
    "\n",
    "print(f'El número decimal que buscamos es {numero_decimal}')"
   ]
  },
  {
   "cell_type": "markdown",
   "id": "ef832967",
   "metadata": {},
   "source": [
    "6 Paso 6 (opcional): creamos una función"
   ]
  },
  {
   "cell_type": "code",
   "execution_count": null,
   "id": "1719436a",
   "metadata": {},
   "outputs": [],
   "source": [
    "def binario_a_decimal(numero_binario):\n",
    "    numero_decimal = 0 \n",
    "\n",
    "    for posicion, digito_string in enumerate(numero_binario[::-1]):\n",
    "        numero_decimal += int(digito_string) * 2 ** posicion\n",
    "\n",
    "    return numero_decimal"
   ]
  },
  {
   "cell_type": "markdown",
   "id": "a417c624",
   "metadata": {},
   "source": [
    "7 Ejemplos de uso"
   ]
  },
  {
   "cell_type": "code",
   "execution_count": null,
   "id": "6b125e51",
   "metadata": {},
   "outputs": [],
   "source": [
    "#ejemplos de uso\n",
    "\n",
    "print(binario_a_decimal('101'))\n",
    "print(binario_a_decimal('100011'))\n",
    "print(binario_a_decimal('101011100011101'))"
   ]
  },
  {
   "cell_type": "markdown",
   "id": "fd0358ec",
   "metadata": {},
   "source": [
    "8 Uso int"
   ]
  },
  {
   "cell_type": "code",
   "execution_count": null,
   "id": "d85c9ac3",
   "metadata": {},
   "outputs": [],
   "source": [
    "numero = int('11101', 2) #donde el 2 indica la base en la que se encuentra el número a convertir\n",
    "print(numero)"
   ]
  },
  {
   "cell_type": "markdown",
   "id": "6ada5b9f",
   "metadata": {},
   "source": [
    "- Cómo convertir un número en cualquier base a decimal"
   ]
  },
  {
   "cell_type": "code",
   "execution_count": null,
   "id": "070b2068",
   "metadata": {},
   "outputs": [],
   "source": [
    "def cualquier_base_a_decimal(numero,base):\n",
    "    numero_decimal = 0 \n",
    "\n",
    "    for posicion, digito_string in enumerate(numero[::-1]):\n",
    "        numero_decimal += int(digito_string) * base ** posicion\n",
    "\n",
    "    return numero_decimal"
   ]
  },
  {
   "cell_type": "code",
   "execution_count": null,
   "id": "bcdc6844",
   "metadata": {},
   "outputs": [],
   "source": [
    "numero = cualquier_base_a_decimal('11101', 2 ) #donde el 2 indica la base \n",
    "print(numero)"
   ]
  }
 ],
 "metadata": {
  "kernelspec": {
   "display_name": "Python 3 (ipykernel)",
   "language": "python",
   "name": "python3"
  },
  "language_info": {
   "codemirror_mode": {
    "name": "ipython",
    "version": 3
   },
   "file_extension": ".py",
   "mimetype": "text/x-python",
   "name": "python",
   "nbconvert_exporter": "python",
   "pygments_lexer": "ipython3",
   "version": "3.10.9"
  }
 },
 "nbformat": 4,
 "nbformat_minor": 5
}
