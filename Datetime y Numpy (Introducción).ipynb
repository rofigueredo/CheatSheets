{
 "cells": [
  {
   "cell_type": "markdown",
   "id": "778b0109",
   "metadata": {},
   "source": [
    "- COMPRENSIÓN DE COLECCIONES"
   ]
  },
  {
   "cell_type": "markdown",
   "id": "259eefa1",
   "metadata": {},
   "source": [
    "1 - Comprensión de listas"
   ]
  },
  {
   "cell_type": "markdown",
   "id": "e49816ea",
   "metadata": {},
   "source": [
    "1.1 Ejemplo 1"
   ]
  },
  {
   "cell_type": "code",
   "execution_count": null,
   "id": "a4964499",
   "metadata": {
    "scrolled": true
   },
   "outputs": [],
   "source": [
    "# Usando funciones y ciclos\n",
    "def cuadrado(n):\n",
    "    return n**2\n",
    "lista = []\n",
    "for i in range(10):\n",
    "    lista.append(cuadrado(i))\n",
    "print(lista)"
   ]
  },
  {
   "cell_type": "code",
   "execution_count": null,
   "id": "b9bf3507",
   "metadata": {
    "scrolled": true
   },
   "outputs": [],
   "source": [
    "# Usando programación funcional\n",
    "lista = list(map(lambda x: x ** 2, range(10)))\n",
    "print(lista)"
   ]
  },
  {
   "cell_type": "code",
   "execution_count": null,
   "id": "51797d41",
   "metadata": {
    "scrolled": true
   },
   "outputs": [],
   "source": [
    "# Usando comprensión de listas\n",
    "lista = [x ** 2 for x in range(10)]\n",
    "print(lista)"
   ]
  },
  {
   "cell_type": "markdown",
   "id": "c41847b6",
   "metadata": {},
   "source": [
    "1.2 Ejemplo 2"
   ]
  },
  {
   "cell_type": "code",
   "execution_count": null,
   "id": "4a5f1d58",
   "metadata": {
    "scrolled": true
   },
   "outputs": [],
   "source": [
    "# Usando funciones y ciclos\n",
    "def es_par(n):\n",
    "    return n%2 == 0\n",
    "lista = []\n",
    "for i in range(10):\n",
    "    if es_par(i) == True:\n",
    "        lista.append(i)\n",
    "print(lista)"
   ]
  },
  {
   "cell_type": "code",
   "execution_count": null,
   "id": "5f95594e",
   "metadata": {
    "scrolled": true
   },
   "outputs": [],
   "source": [
    "# Usando programación funcional\n",
    "lista = list(filter(lambda x: x % 2 == 0, range(10)))\n",
    "print(lista)"
   ]
  },
  {
   "cell_type": "code",
   "execution_count": null,
   "id": "6abffb31",
   "metadata": {
    "scrolled": true
   },
   "outputs": [],
   "source": [
    "# Usando comprensión de listas\n",
    "lista = [x for x in range(10) if x % 2 == 0]\n",
    "print(lista)"
   ]
  },
  {
   "cell_type": "markdown",
   "id": "8760d871",
   "metadata": {},
   "source": [
    "1.3 Ejemplo 3"
   ]
  },
  {
   "cell_type": "code",
   "execution_count": null,
   "id": "d4b9bee5",
   "metadata": {
    "scrolled": true
   },
   "outputs": [],
   "source": [
    "# Usando funciones y ciclos\n",
    "def es_par(n):\n",
    "    return n%2 == 0\n",
    "\n",
    "def cuadrado(n):\n",
    "    return n**2\n",
    "\n",
    "lista = []\n",
    "for i in range(10):\n",
    "    if es_par(i) == True:\n",
    "        lista.append(cuadrado(i))\n",
    "print(lista)"
   ]
  },
  {
   "cell_type": "code",
   "execution_count": null,
   "id": "345311e7",
   "metadata": {
    "scrolled": true
   },
   "outputs": [],
   "source": [
    "# Usando programación funcional\n",
    "lista = list(map(lambda x:x**2, filter(lambda x: x % 2 == 0, range(10))))\n",
    "print(lista)"
   ]
  },
  {
   "cell_type": "code",
   "execution_count": null,
   "id": "909f8596",
   "metadata": {
    "scrolled": true
   },
   "outputs": [],
   "source": [
    "# Usando comprensión de listas\n",
    "lista = [x ** 2 for x in range(10) if x % 2 == 0]\n",
    "print(lista)"
   ]
  },
  {
   "cell_type": "markdown",
   "id": "529bb1d9",
   "metadata": {},
   "source": [
    "1.4 Ejemplo 4"
   ]
  },
  {
   "cell_type": "code",
   "execution_count": null,
   "id": "e873cb9f",
   "metadata": {
    "scrolled": true
   },
   "outputs": [],
   "source": [
    "notas = {'Carmen':5, 'Antonio':4, 'Juan':8, 'Mónica':9, 'María': 6, 'Pablo':3}\n",
    "# Usando funciones y ciclos\n",
    "def mayor_5(notas):\n",
    "    lista = []\n",
    "    for (nombre, nota) in notas.items():\n",
    "        if nota >= 5:\n",
    "             lista.append(nombre)\n",
    "    return lista\n",
    "\n",
    "print(mayor_5(notas))"
   ]
  },
  {
   "cell_type": "code",
   "execution_count": null,
   "id": "0b4d0824",
   "metadata": {
    "scrolled": true
   },
   "outputs": [],
   "source": [
    "notas = {'Carmen':5, 'Antonio':4, 'Juan':8, 'Mónica':9, 'María': 6, 'Pablo':3}\n",
    "# Usando programación funcional\n",
    "lista = list(map(lambda notas:notas[0], filter(lambda notas: notas[1] >= 5, list(notas.items()))))\n",
    "print(lista)"
   ]
  },
  {
   "cell_type": "code",
   "execution_count": null,
   "id": "6fd97632",
   "metadata": {
    "scrolled": true
   },
   "outputs": [],
   "source": [
    "notas = {'Carmen':5, 'Antonio':4, 'Juan':8, 'Mónica':9, 'María': 6, 'Pablo':3}\n",
    "# Usando comprensión de listas\n",
    "lista = [nombre for (nombre, nota) in notas.items() if nota >= 5]\n",
    "print(lista)"
   ]
  },
  {
   "cell_type": "markdown",
   "id": "60e14c93",
   "metadata": {},
   "source": [
    "2 - Comprensión de diccionarios"
   ]
  },
  {
   "cell_type": "markdown",
   "id": "d212b839",
   "metadata": {},
   "source": [
    "2.1 Ejemplo 1"
   ]
  },
  {
   "cell_type": "code",
   "execution_count": null,
   "id": "2917c7dd",
   "metadata": {
    "scrolled": true
   },
   "outputs": [],
   "source": [
    "palabras = ['I', 'love', 'Python']\n",
    "\n",
    "# Usando funciones y ciclos\n",
    "def palabras_tamaño(palabras):\n",
    "    diccionario={} \n",
    "    for palabra in palabras:\n",
    "             diccionario[palabra] = len(palabra)\n",
    "    return diccionario\n",
    "print(palabras_tamaño(palabras))"
   ]
  },
  {
   "cell_type": "code",
   "execution_count": null,
   "id": "fd65d2a7",
   "metadata": {
    "scrolled": true
   },
   "outputs": [],
   "source": [
    "palabras = ['I', 'love', 'Python']\n",
    "# Usando programación funcional\n",
    "diccionario = dict(zip(palabras,[len(palabra) for palabra in palabras]))\n",
    "print(diccionario)"
   ]
  },
  {
   "cell_type": "code",
   "execution_count": null,
   "id": "d522632e",
   "metadata": {
    "scrolled": true
   },
   "outputs": [],
   "source": [
    "palabras = ['I', 'love', 'Python']\n",
    "# Usando comprensión de diccionarios\n",
    "diccionario = {palabra:len(palabra) for palabra in palabras}\n",
    "print(diccionario)"
   ]
  },
  {
   "cell_type": "markdown",
   "id": "bff12d41",
   "metadata": {},
   "source": [
    "2.2 Ejemplo 2"
   ]
  },
  {
   "cell_type": "code",
   "execution_count": null,
   "id": "e3b00d71",
   "metadata": {
    "scrolled": true
   },
   "outputs": [],
   "source": [
    "notas = {'Carmen':5, 'Antonio':4, 'Juan':8, 'Mónica':9, 'María': 6, 'Pablo':3}\n",
    "# Usando funciones y ciclos\n",
    "def notas_mayor_5(notas):\n",
    "    diccionario={} \n",
    "    for nombre,nota in notas.items():\n",
    "        if nota>=5:\n",
    "            diccionario[nombre] = nota + 1\n",
    "    return diccionario\n",
    "print(notas_mayor_5(notas))"
   ]
  },
  {
   "cell_type": "code",
   "execution_count": null,
   "id": "cebc75b9",
   "metadata": {
    "scrolled": true
   },
   "outputs": [],
   "source": [
    "notas = {'Carmen':5, 'Antonio':4, 'Juan':8, 'Mónica':9, 'María': 6, 'Pablo':3}\n",
    "# Usando programación funcional\n",
    "notas_mayor_5=dict(filter(lambda x: x[1] >=5, notas.items()))\n",
    "diccionario = dict(map(lambda x: (x[0],x[1]+1), notas_mayor_5.items()))                  \n",
    "print(diccionario)"
   ]
  },
  {
   "cell_type": "code",
   "execution_count": null,
   "id": "7b628108",
   "metadata": {
    "scrolled": true
   },
   "outputs": [],
   "source": [
    "notas = {'Carmen':5, 'Antonio':4, 'Juan':8, 'Mónica':9, 'María': 6, 'Pablo':3}\n",
    "# Usando comprensión de diccionarios\n",
    "diccionario={nombre: nota +1 for (nombre, nota) in notas.items() if nota >= 5}\n",
    "print(diccionario)"
   ]
  },
  {
   "cell_type": "markdown",
   "id": "c8d166bb",
   "metadata": {},
   "source": [
    "3 - Comprensión de conjuntos"
   ]
  },
  {
   "cell_type": "code",
   "execution_count": null,
   "id": "7265dc37",
   "metadata": {
    "scrolled": true
   },
   "outputs": [],
   "source": [
    "# Usando funciones y ciclos\n",
    "def divisible_entre_3(rangos):\n",
    "    conjunto=set()\n",
    "    for numero in rangos:\n",
    "        if numero%3==0:\n",
    "            conjunto.add(numero)\n",
    "    return conjunto\n",
    "print(divisible_entre_3(range(0, 20)))"
   ]
  },
  {
   "cell_type": "code",
   "execution_count": null,
   "id": "09350506",
   "metadata": {
    "scrolled": true
   },
   "outputs": [],
   "source": [
    "# Usando programación funcional\n",
    "conjunto=set(filter(lambda numero: numero % 3 == 0,range(0, 20)))                 \n",
    "print(conjunto)"
   ]
  },
  {
   "cell_type": "code",
   "execution_count": null,
   "id": "1da4a1bd",
   "metadata": {
    "scrolled": true
   },
   "outputs": [],
   "source": [
    "# Usando comprensión de conjuntos\n",
    "conjunto = {numero for numero in range(0, 20) if numero % 3 == 0}\n",
    "print(conjunto)"
   ]
  },
  {
   "cell_type": "markdown",
   "id": "c6671e09",
   "metadata": {},
   "source": [
    "- EXCEPCIONES"
   ]
  },
  {
   "cell_type": "markdown",
   "id": "2912fd1e",
   "metadata": {},
   "source": [
    "1.1 Control de errores mediante excepciones"
   ]
  },
  {
   "cell_type": "code",
   "execution_count": null,
   "id": "23f82ef0",
   "metadata": {
    "scrolled": true
   },
   "outputs": [],
   "source": [
    "print(1 / 0)  # Error al intentar dividir por 0."
   ]
  },
  {
   "cell_type": "markdown",
   "id": "e8633a1a",
   "metadata": {},
   "source": [
    "1.2 Como manejar ZeroDivisionError en Python "
   ]
  },
  {
   "cell_type": "markdown",
   "id": "5f8cd5ba",
   "metadata": {},
   "source": [
    "Considera la siguiente función, dividir(), toma 2 argumentos num y div y retorna el resultado o cociente de dividir num/ div."
   ]
  },
  {
   "cell_type": "code",
   "execution_count": null,
   "id": "898488c0",
   "metadata": {
    "scrolled": true
   },
   "outputs": [],
   "source": [
    "def dividir(num,div):\n",
    "    return num/div"
   ]
  },
  {
   "cell_type": "markdown",
   "id": "833a55c4",
   "metadata": {},
   "source": [
    "Llamar a la función con diferentes números retorna el resultado de la división."
   ]
  },
  {
   "cell_type": "code",
   "execution_count": null,
   "id": "42df6734",
   "metadata": {
    "scrolled": true
   },
   "outputs": [],
   "source": [
    "res = dividir(100,8)\n",
    "print(res)\n",
    "res = dividir(568,64)\n",
    "print(res)"
   ]
  },
  {
   "cell_type": "markdown",
   "id": "d9750ddd",
   "metadata": {},
   "source": [
    "El código anterior funciona hasta que tratamos de dividir entre cero:"
   ]
  },
  {
   "cell_type": "code",
   "execution_count": null,
   "id": "0f84ad39",
   "metadata": {
    "scrolled": true
   },
   "outputs": [],
   "source": [
    "dividir(27,0)"
   ]
  },
  {
   "cell_type": "markdown",
   "id": "cef091bc",
   "metadata": {},
   "source": [
    "Podemos tratar esta división entre cero como una excepción, haciendo lo siguiente:"
   ]
  },
  {
   "cell_type": "code",
   "execution_count": 34,
   "id": "aa659fed",
   "metadata": {
    "scrolled": true
   },
   "outputs": [
    {
     "name": "stdout",
     "output_type": "stream",
     "text": [
      "Ingrese dividendo: 27\n",
      "Ingrese divisor: 0\n",
      "Trataste de dividir entre cero :( \n"
     ]
    }
   ],
   "source": [
    "def dividir(num,div):\n",
    "    return num/div\n",
    "try:\n",
    "    num = float(input(\"Ingrese dividendo: \"))\n",
    "    div = float(input(\"Ingrese divisor: \"))\n",
    "    res = dividir(num, div)\n",
    "    print(res)\n",
    "except Exception:\n",
    "    print(\"Trataste de dividir entre cero :( \")"
   ]
  },
  {
   "cell_type": "markdown",
   "id": "35899e18",
   "metadata": {},
   "source": [
    "1.3 Como enfrentar TypeError en  Python"
   ]
  },
  {
   "cell_type": "markdown",
   "id": "e5cfc6ff",
   "metadata": {},
   "source": [
    "Pensemos en una función llamada mas_10(), que toma un número como argumento, le añade 10, y retorna el resultado de la suma."
   ]
  },
  {
   "cell_type": "code",
   "execution_count": 35,
   "id": "d4310845",
   "metadata": {
    "scrolled": true
   },
   "outputs": [],
   "source": [
    "def mas_10(num):\n",
    "  return num + 10"
   ]
  },
  {
   "cell_type": "markdown",
   "id": "62e444f4",
   "metadata": {},
   "source": [
    " Podemos llamar a la función mas_10() con cualquier número y funcionará correctamente, como podemos ver en el siguiente ejemplo:"
   ]
  },
  {
   "cell_type": "code",
   "execution_count": 36,
   "id": "e8aca9ea",
   "metadata": {
    "scrolled": true
   },
   "outputs": [
    {
     "name": "stdout",
     "output_type": "stream",
     "text": [
      "99\n"
     ]
    }
   ],
   "source": [
    "resultado = mas_10(89)\n",
    "print(resultado)"
   ]
  },
  {
   "cell_type": "markdown",
   "id": "a3830131",
   "metadata": {},
   "source": [
    "Ahora llamemos a mas_10() con \"cinco\" en lugar de 5."
   ]
  },
  {
   "cell_type": "code",
   "execution_count": 37,
   "id": "f6ee3b8e",
   "metadata": {
    "scrolled": true
   },
   "outputs": [
    {
     "ename": "TypeError",
     "evalue": "can only concatenate str (not \"int\") to str",
     "output_type": "error",
     "traceback": [
      "\u001b[1;31m---------------------------------------------------------------------------\u001b[0m",
      "\u001b[1;31mTypeError\u001b[0m                                 Traceback (most recent call last)",
      "Cell \u001b[1;32mIn[37], line 1\u001b[0m\n\u001b[1;32m----> 1\u001b[0m \u001b[43mmas_10\u001b[49m\u001b[43m(\u001b[49m\u001b[38;5;124;43m\"\u001b[39;49m\u001b[38;5;124;43mcinco\u001b[39;49m\u001b[38;5;124;43m\"\u001b[39;49m\u001b[43m)\u001b[49m\n",
      "Cell \u001b[1;32mIn[35], line 2\u001b[0m, in \u001b[0;36mmas_10\u001b[1;34m(num)\u001b[0m\n\u001b[0;32m      1\u001b[0m \u001b[38;5;28;01mdef\u001b[39;00m \u001b[38;5;21mmas_10\u001b[39m(num):\n\u001b[1;32m----> 2\u001b[0m   \u001b[38;5;28;01mreturn\u001b[39;00m \u001b[43mnum\u001b[49m\u001b[43m \u001b[49m\u001b[38;5;241;43m+\u001b[39;49m\u001b[43m \u001b[49m\u001b[38;5;241;43m10\u001b[39;49m\n",
      "\u001b[1;31mTypeError\u001b[0m: can only concatenate str (not \"int\") to str"
     ]
    }
   ],
   "source": [
    "mas_10(\"cinco\")"
   ]
  },
  {
   "cell_type": "markdown",
   "id": "6423a876",
   "metadata": {},
   "source": [
    "Ahora, ejecutando el código de bajo,  ya que estamos especificando que TypeError es una excepción el programa no se detendrá y te notificara que el argumento es inválido."
   ]
  },
  {
   "cell_type": "code",
   "execution_count": 38,
   "id": "0b005b08",
   "metadata": {
    "scrolled": true
   },
   "outputs": [
    {
     "name": "stdout",
     "output_type": "stream",
     "text": [
      "El argumento `mi_num` deberia ser un número\n"
     ]
    }
   ],
   "source": [
    "mi_num = \"cinco\"\n",
    "try:\n",
    "  resultado = mas_10(mi_num)\n",
    "  print(resultado)\n",
    "except TypeError:\n",
    "  print(\"El argumento `mi_num` deberia ser un número\")"
   ]
  },
  {
   "cell_type": "markdown",
   "id": "91b0dcce",
   "metadata": {},
   "source": [
    "1.4 Como manejar IndexError en Python"
   ]
  },
  {
   "cell_type": "markdown",
   "id": "d063b457",
   "metadata": {},
   "source": [
    "Miremos la siguiente lista"
   ]
  },
  {
   "cell_type": "code",
   "execution_count": 39,
   "id": "972b4f9c",
   "metadata": {
    "scrolled": true
   },
   "outputs": [],
   "source": [
    "mi_lista = [\"Python\",\"C\",\"C++\",\"JavaScript\"]"
   ]
  },
  {
   "cell_type": "markdown",
   "id": "07f5b625",
   "metadata": {},
   "source": [
    "En este ejemplo, mi_lista tiene 4 elementos. Los índices válidos son 0, 1, 2, 3  y -1, -2, -3, -4 si usas indexación negativa."
   ]
  },
  {
   "cell_type": "code",
   "execution_count": 40,
   "id": "fb9f64cf",
   "metadata": {
    "scrolled": true
   },
   "outputs": [
    {
     "name": "stdout",
     "output_type": "stream",
     "text": [
      "C++\n"
     ]
    }
   ],
   "source": [
    "print(mi_lista[2])"
   ]
  },
  {
   "cell_type": "markdown",
   "id": "313ae904",
   "metadata": {},
   "source": [
    "Si tratas de acceder a la lista con un índice fuera del rango permitido, ocurrirá un error en la ejecución y aparecerá el error IndexError"
   ]
  },
  {
   "cell_type": "code",
   "execution_count": 41,
   "id": "27ad3aa1",
   "metadata": {
    "scrolled": true
   },
   "outputs": [
    {
     "ename": "IndexError",
     "evalue": "list index out of range",
     "output_type": "error",
     "traceback": [
      "\u001b[1;31m---------------------------------------------------------------------------\u001b[0m",
      "\u001b[1;31mIndexError\u001b[0m                                Traceback (most recent call last)",
      "Cell \u001b[1;32mIn[41], line 1\u001b[0m\n\u001b[1;32m----> 1\u001b[0m \u001b[38;5;28mprint\u001b[39m(\u001b[43mmi_lista\u001b[49m\u001b[43m[\u001b[49m\u001b[38;5;241;43m4\u001b[39;49m\u001b[43m]\u001b[49m)\n",
      "\u001b[1;31mIndexError\u001b[0m: list index out of range"
     ]
    }
   ],
   "source": [
    "print(mi_lista[4])"
   ]
  },
  {
   "cell_type": "markdown",
   "id": "300b9681",
   "metadata": {},
   "source": [
    "En el siguiente código, intentamos acceder a un elemento con la variable buscar_ind"
   ]
  },
  {
   "cell_type": "code",
   "execution_count": 42,
   "id": "63eb159f",
   "metadata": {
    "scrolled": true
   },
   "outputs": [
    {
     "name": "stdout",
     "output_type": "stream",
     "text": [
      "JavaScript\n"
     ]
    }
   ],
   "source": [
    "mi_lista = [\"Python\",\"C\",\"C++\",\"JavaScript\"]\n",
    "buscar_ind = 3\n",
    "try:\n",
    "  print(mi_lista[buscar_ind])\n",
    "except IndexError:\n",
    "  print(\"Lo siento, el indice esta fuera de rango\")"
   ]
  },
  {
   "cell_type": "markdown",
   "id": "2f0eb073",
   "metadata": {},
   "source": [
    "Aquí podemos ver nuestro mensaje personalizado para la excepción"
   ]
  },
  {
   "cell_type": "code",
   "execution_count": 43,
   "id": "b5b41d25",
   "metadata": {
    "scrolled": true
   },
   "outputs": [
    {
     "name": "stdout",
     "output_type": "stream",
     "text": [
      "Lo siento, el indice esta fuera de rango\n"
     ]
    }
   ],
   "source": [
    "mi_lista = [\"Python\",\"C\",\"C++\",\"JavaScript\"]\n",
    "buscar_ind = 4\n",
    "try:\n",
    "  print(mi_lista[buscar_ind])\n",
    "except IndexError:\n",
    "  print(\"Lo siento, el indice esta fuera de rango\")"
   ]
  },
  {
   "cell_type": "markdown",
   "id": "adb6da33",
   "metadata": {},
   "source": [
    "1.5 Como manejar KeyError en Python"
   ]
  },
  {
   "cell_type": "code",
   "execution_count": 44,
   "id": "484f941e",
   "metadata": {
    "scrolled": true
   },
   "outputs": [
    {
     "ename": "KeyError",
     "evalue": "'clave no existente'",
     "output_type": "error",
     "traceback": [
      "\u001b[1;31m---------------------------------------------------------------------------\u001b[0m",
      "\u001b[1;31mKeyError\u001b[0m                                  Traceback (most recent call last)",
      "Cell \u001b[1;32mIn[44], line 3\u001b[0m\n\u001b[0;32m      1\u001b[0m mi_dict \u001b[38;5;241m=\u001b[39m{\u001b[38;5;124m\"\u001b[39m\u001b[38;5;124mclave1\u001b[39m\u001b[38;5;124m\"\u001b[39m:\u001b[38;5;124m\"\u001b[39m\u001b[38;5;124mvalor1\u001b[39m\u001b[38;5;124m\"\u001b[39m, \u001b[38;5;124m\"\u001b[39m\u001b[38;5;124mclave2\u001b[39m\u001b[38;5;124m\"\u001b[39m:\u001b[38;5;124m\"\u001b[39m\u001b[38;5;124mvalor2\u001b[39m\u001b[38;5;124m\"\u001b[39m, \u001b[38;5;124m\"\u001b[39m\u001b[38;5;124mclave3\u001b[39m\u001b[38;5;124m\"\u001b[39m:\u001b[38;5;124m\"\u001b[39m\u001b[38;5;124mvalor3\u001b[39m\u001b[38;5;124m\"\u001b[39m}\n\u001b[0;32m      2\u001b[0m buscar_clave \u001b[38;5;241m=\u001b[39m \u001b[38;5;124m\"\u001b[39m\u001b[38;5;124mclave no existente\u001b[39m\u001b[38;5;124m\"\u001b[39m\n\u001b[1;32m----> 3\u001b[0m \u001b[38;5;28mprint\u001b[39m(\u001b[43mmi_dict\u001b[49m\u001b[43m[\u001b[49m\u001b[43mbuscar_clave\u001b[49m\u001b[43m]\u001b[49m)\n",
      "\u001b[1;31mKeyError\u001b[0m: 'clave no existente'"
     ]
    }
   ],
   "source": [
    "mi_dict ={\"clave1\":\"valor1\", \"clave2\":\"valor2\", \"clave3\":\"valor3\"}\n",
    "buscar_clave = \"clave no existente\"\n",
    "print(mi_dict[buscar_clave])"
   ]
  },
  {
   "cell_type": "code",
   "execution_count": 45,
   "id": "a813395e",
   "metadata": {
    "scrolled": true
   },
   "outputs": [
    {
     "name": "stdout",
     "output_type": "stream",
     "text": [
      "¡Lo siento, clave invalida!\n"
     ]
    }
   ],
   "source": [
    "try:\n",
    "  print(mi_dict[buscar_clave])\n",
    "except KeyError:\n",
    "  print(\"¡Lo siento, clave invalida!\")"
   ]
  },
  {
   "cell_type": "markdown",
   "id": "e985f7f1",
   "metadata": {},
   "source": [
    "También es posible añadir información extra; como el nombre de la clave inválida."
   ]
  },
  {
   "cell_type": "code",
   "execution_count": 46,
   "id": "9b01b008",
   "metadata": {
    "scrolled": true
   },
   "outputs": [
    {
     "name": "stdout",
     "output_type": "stream",
     "text": [
      "¡Lo siento, 'clave no existente' no es una clave valida!\n"
     ]
    }
   ],
   "source": [
    "try:\n",
    "  print(mi_dict[buscar_clave])\n",
    "except KeyError as variable:\n",
    "  print(f\"¡Lo siento, {variable} no es una clave valida!\")"
   ]
  },
  {
   "cell_type": "markdown",
   "id": "520fc289",
   "metadata": {},
   "source": [
    "- LA LIBRERÍA DATETIME"
   ]
  },
  {
   "cell_type": "markdown",
   "id": "bce08580",
   "metadata": {},
   "source": [
    "1- Los tipos de datos $\\color{red}{\\text{date}}$, $\\color{red}{\\text{time}}$ y $\\color{red}{\\text{datetime}}$"
   ]
  },
  {
   "cell_type": "code",
   "execution_count": 47,
   "id": "e7272abb",
   "metadata": {
    "scrolled": true
   },
   "outputs": [
    {
     "data": {
      "text/plain": [
       "datetime.date(2020, 12, 25)"
      ]
     },
     "execution_count": 47,
     "metadata": {},
     "output_type": "execute_result"
    }
   ],
   "source": [
    "from datetime import date, time, datetime\n",
    "date(2020, 12, 25)"
   ]
  },
  {
   "cell_type": "code",
   "execution_count": 48,
   "id": "78a3d5e1",
   "metadata": {
    "scrolled": true
   },
   "outputs": [
    {
     "data": {
      "text/plain": [
       "datetime.time(13, 30, 5)"
      ]
     },
     "execution_count": 48,
     "metadata": {},
     "output_type": "execute_result"
    }
   ],
   "source": [
    "time(13,30,5)"
   ]
  },
  {
   "cell_type": "code",
   "execution_count": 49,
   "id": "be7a41d9",
   "metadata": {
    "scrolled": true
   },
   "outputs": [
    {
     "data": {
      "text/plain": [
       "datetime.datetime(2020, 12, 25, 13, 30, 5)"
      ]
     },
     "execution_count": 49,
     "metadata": {},
     "output_type": "execute_result"
    }
   ],
   "source": [
    "datetime(2020, 12, 25, 13, 30, 5)"
   ]
  },
  {
   "cell_type": "code",
   "execution_count": 50,
   "id": "19949168",
   "metadata": {
    "scrolled": true
   },
   "outputs": [
    {
     "name": "stdout",
     "output_type": "stream",
     "text": [
      "2020-12-25 13:30:05\n"
     ]
    }
   ],
   "source": [
    "print(datetime(2020, 12, 25, 13, 30, 5))"
   ]
  },
  {
   "cell_type": "markdown",
   "id": "f64509c9",
   "metadata": {},
   "source": [
    "2- Acceso a los componentes de una fecha"
   ]
  },
  {
   "cell_type": "code",
   "execution_count": 51,
   "id": "3be24199",
   "metadata": {
    "scrolled": true
   },
   "outputs": [
    {
     "name": "stdout",
     "output_type": "stream",
     "text": [
      "2023-06-06\n",
      "2023-06-06 21:03:54.690864\n",
      "2023\n",
      "6\n",
      "6\n",
      "21\n",
      "3\n",
      "54\n",
      "690864\n"
     ]
    }
   ],
   "source": [
    "from datetime import date, time, datetime\n",
    "print(date.today())\n",
    "dt = datetime.now()\n",
    "print(dt)\n",
    "print(dt.year)\n",
    "print(dt.month)\n",
    "print(dt.day)\n",
    "print(dt.hour)\n",
    "print(dt.minute)\n",
    "print(dt.second)\n",
    "print(dt.microsecond)"
   ]
  },
  {
   "cell_type": "markdown",
   "id": "2497d415",
   "metadata": {},
   "source": [
    "3 - Conversión de fechas en cadenas con diferentes formatos"
   ]
  },
  {
   "cell_type": "code",
   "execution_count": 57,
   "id": "c14c20c1",
   "metadata": {
    "scrolled": true
   },
   "outputs": [
    {
     "name": "stdout",
     "output_type": "stream",
     "text": [
      "06-06-2023\n",
      "Tuesday, 06 June, 23\n",
      "21:12:11\n",
      "21 horas, 12 minutos y 11 segundos\n"
     ]
    }
   ],
   "source": [
    "from datetime import date, time, datetime\n",
    "d = datetime.now()\n",
    "print(d.strftime('%d-%m-%Y'))\n",
    "print(d.strftime('%A, %d %B, %y'))\n",
    "print(d.strftime('%H:%M:%S'))\n",
    "print(d.strftime('%H horas, %M minutos y %S segundos'))"
   ]
  },
  {
   "cell_type": "markdown",
   "id": "0f2c1dc2",
   "metadata": {},
   "source": [
    "4- Conversión de cadenas en fechas"
   ]
  },
  {
   "cell_type": "code",
   "execution_count": 58,
   "id": "339e099c",
   "metadata": {
    "scrolled": true
   },
   "outputs": [
    {
     "data": {
      "text/plain": [
       "datetime.datetime(2020, 4, 15, 0, 0)"
      ]
     },
     "execution_count": 58,
     "metadata": {},
     "output_type": "execute_result"
    }
   ],
   "source": [
    "from datetime import date, time, datetime\n",
    "datetime.strptime('15/4/2020', '%d/%m/%Y')"
   ]
  },
  {
   "cell_type": "code",
   "execution_count": 59,
   "id": "759f367e",
   "metadata": {
    "scrolled": true
   },
   "outputs": [
    {
     "data": {
      "text/plain": [
       "datetime.datetime(2020, 4, 15, 20, 50, 30)"
      ]
     },
     "execution_count": 59,
     "metadata": {},
     "output_type": "execute_result"
    }
   ],
   "source": [
    "datetime.strptime('2020-4-15 20:50:30', '%Y-%m-%d %H:%M:%S')"
   ]
  },
  {
   "cell_type": "markdown",
   "id": "bf2a0efb",
   "metadata": {},
   "source": [
    "5- Aritmética de fechas"
   ]
  },
  {
   "cell_type": "code",
   "execution_count": 60,
   "id": "3c39d7a3",
   "metadata": {
    "scrolled": true
   },
   "outputs": [
    {
     "data": {
      "text/plain": [
       "datetime.datetime(2020, 2, 1, 1, 0)"
      ]
     },
     "execution_count": 60,
     "metadata": {},
     "output_type": "execute_result"
    }
   ],
   "source": [
    "from datetime import date, time, datetime, timedelta\n",
    "d1 = datetime(2020, 1, 1)\n",
    "d1 + timedelta(31,3600)"
   ]
  },
  {
   "cell_type": "code",
   "execution_count": 61,
   "id": "38cfa71d",
   "metadata": {
    "scrolled": true
   },
   "outputs": [
    {
     "data": {
      "text/plain": [
       "datetime.timedelta(days=1252, seconds=76673, microseconds=275309)"
      ]
     },
     "execution_count": 61,
     "metadata": {},
     "output_type": "execute_result"
    }
   ],
   "source": [
    "datetime.now() - d1"
   ]
  },
  {
   "cell_type": "markdown",
   "id": "b25861a8",
   "metadata": {},
   "source": [
    "- INTRODUCCIÓN A LA LIBRERÍA NUMPY"
   ]
  },
  {
   "cell_type": "code",
   "execution_count": 62,
   "id": "b365d3e9",
   "metadata": {
    "scrolled": true
   },
   "outputs": [
    {
     "name": "stdout",
     "output_type": "stream",
     "text": [
      "[1 2 3]\n",
      "\n",
      "[[1 2 3]\n",
      " [4 5 6]]\n",
      "\n",
      "[[[ 1  2  3]\n",
      "  [ 4  5  6]]\n",
      "\n",
      " [[ 7  8  9]\n",
      "  [10 11 12]]]\n"
     ]
    }
   ],
   "source": [
    "import numpy as np\n",
    "# Array de una dimensión\n",
    "a1 = np.array([1, 2, 3])\n",
    "print(a1)\n",
    "print()\n",
    "#Array de dos dimensiones\n",
    "a2 = np.array([[1, 2, 3], [4, 5, 6]])\n",
    "print(a2)\n",
    "print()\n",
    "# Array de tres dimensiones\n",
    "a3 = np.array([[[1, 2, 3], [4, 5, 6]], [[7, 8, 9], [10, 11, 12]]])\n",
    "print(a3)"
   ]
  },
  {
   "cell_type": "code",
   "execution_count": null,
   "id": "3ac4edb6",
   "metadata": {},
   "outputs": [],
   "source": []
  }
 ],
 "metadata": {
  "kernelspec": {
   "display_name": "Python 3 (ipykernel)",
   "language": "python",
   "name": "python3"
  },
  "language_info": {
   "codemirror_mode": {
    "name": "ipython",
    "version": 3
   },
   "file_extension": ".py",
   "mimetype": "text/x-python",
   "name": "python",
   "nbconvert_exporter": "python",
   "pygments_lexer": "ipython3",
   "version": "3.10.9"
  }
 },
 "nbformat": 4,
 "nbformat_minor": 5
}
