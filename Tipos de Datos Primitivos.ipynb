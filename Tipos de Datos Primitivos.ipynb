{
 "cells": [
  {
   "cell_type": "markdown",
   "id": "e934cf30",
   "metadata": {},
   "source": [
    "- CADENAS"
   ]
  },
  {
   "cell_type": "markdown",
   "id": "a2105f2c",
   "metadata": {},
   "source": [
    "1- Subcadenas\n",
    "\n"
   ]
  },
  {
   "cell_type": "code",
   "execution_count": 1,
   "id": "319b887d",
   "metadata": {},
   "outputs": [
    {
     "data": {
      "text/plain": [
       "'yth'"
      ]
     },
     "execution_count": 1,
     "metadata": {},
     "output_type": "execute_result"
    }
   ],
   "source": [
    "'Python'[1:4]"
   ]
  },
  {
   "cell_type": "code",
   "execution_count": 4,
   "id": "d5feac61",
   "metadata": {},
   "outputs": [
    {
     "data": {
      "text/plain": [
       "'y'"
      ]
     },
     "execution_count": 4,
     "metadata": {},
     "output_type": "execute_result"
    }
   ],
   "source": [
    "'Python'[1:1]"
   ]
  },
  {
   "cell_type": "code",
   "execution_count": 5,
   "id": "e908ca27",
   "metadata": {},
   "outputs": [
    {
     "data": {
      "text/plain": [
       "'thon'"
      ]
     },
     "execution_count": 5,
     "metadata": {},
     "output_type": "execute_result"
    }
   ],
   "source": [
    "'Python'[2:]"
   ]
  },
  {
   "cell_type": "code",
   "execution_count": 6,
   "id": "7830d822",
   "metadata": {},
   "outputs": [
    {
     "data": {
      "text/plain": [
       "'Pyth'"
      ]
     },
     "execution_count": 6,
     "metadata": {},
     "output_type": "execute_result"
    }
   ],
   "source": [
    "'Python'[:-2]"
   ]
  },
  {
   "cell_type": "code",
   "execution_count": 7,
   "id": "7e5ba4be",
   "metadata": {},
   "outputs": [
    {
     "data": {
      "text/plain": [
       "'Python'"
      ]
     },
     "execution_count": 7,
     "metadata": {},
     "output_type": "execute_result"
    }
   ],
   "source": [
    "'Python'[:]"
   ]
  },
  {
   "cell_type": "code",
   "execution_count": 8,
   "id": "6da3bb03",
   "metadata": {},
   "outputs": [
    {
     "data": {
      "text/plain": [
       "'Pto'"
      ]
     },
     "execution_count": 8,
     "metadata": {},
     "output_type": "execute_result"
    }
   ],
   "source": [
    "'Python'[0:6:2]"
   ]
  },
  {
   "cell_type": "code",
   "execution_count": 10,
   "id": "dbc498db",
   "metadata": {},
   "outputs": [
    {
     "data": {
      "text/plain": [
       "'noht'"
      ]
     },
     "execution_count": 10,
     "metadata": {},
     "output_type": "execute_result"
    }
   ],
   "source": [
    "'Python'[6:1:-1]"
   ]
  },
  {
   "cell_type": "markdown",
   "id": "2d53a8f8",
   "metadata": {},
   "source": [
    "2- Operaciones de comparación de cadenas"
   ]
  },
  {
   "cell_type": "code",
   "execution_count": 11,
   "id": "c0fa8c5d",
   "metadata": {},
   "outputs": [
    {
     "data": {
      "text/plain": [
       "False"
      ]
     },
     "execution_count": 11,
     "metadata": {},
     "output_type": "execute_result"
    }
   ],
   "source": [
    "'Python' == 'python'"
   ]
  },
  {
   "cell_type": "code",
   "execution_count": 12,
   "id": "303dc7d8",
   "metadata": {},
   "outputs": [
    {
     "data": {
      "text/plain": [
       "True"
      ]
     },
     "execution_count": 12,
     "metadata": {},
     "output_type": "execute_result"
    }
   ],
   "source": [
    "'Python' < 'python'"
   ]
  },
  {
   "cell_type": "code",
   "execution_count": 13,
   "id": "94629dd3",
   "metadata": {},
   "outputs": [
    {
     "data": {
      "text/plain": [
       "True"
      ]
     },
     "execution_count": 13,
     "metadata": {},
     "output_type": "execute_result"
    }
   ],
   "source": [
    "'a' > 'Z'"
   ]
  },
  {
   "cell_type": "code",
   "execution_count": 14,
   "id": "abe3627a",
   "metadata": {},
   "outputs": [
    {
     "data": {
      "text/plain": [
       "False"
      ]
     },
     "execution_count": 14,
     "metadata": {},
     "output_type": "execute_result"
    }
   ],
   "source": [
    "'A' >= 'Z'"
   ]
  },
  {
   "cell_type": "code",
   "execution_count": 15,
   "id": "77f4c977",
   "metadata": {},
   "outputs": [
    {
     "data": {
      "text/plain": [
       "True"
      ]
     },
     "execution_count": 15,
     "metadata": {},
     "output_type": "execute_result"
    }
   ],
   "source": [
    "'' < 'Python'"
   ]
  },
  {
   "cell_type": "markdown",
   "id": "5afea0d4",
   "metadata": {},
   "source": [
    "3- Cadenas formateadas ($\\color{red}{\\text{format()}}$)"
   ]
  },
  {
   "cell_type": "code",
   "execution_count": 16,
   "id": "1ae86d3a",
   "metadata": {},
   "outputs": [
    {
     "data": {
      "text/plain": [
       "'Un € vale 1.12 $'"
      ]
     },
     "execution_count": 16,
     "metadata": {},
     "output_type": "execute_result"
    }
   ],
   "source": [
    "'Un {} vale {} {}'.format('€', 1.12, '$')"
   ]
  },
  {
   "cell_type": "code",
   "execution_count": 17,
   "id": "ebaabf8e",
   "metadata": {},
   "outputs": [
    {
     "data": {
      "text/plain": [
       "'Un $ vale 1.12 €'"
      ]
     },
     "execution_count": 17,
     "metadata": {},
     "output_type": "execute_result"
    }
   ],
   "source": [
    "'Un {2} vale {1} {0}'.format('€', 1.12, '$')"
   ]
  },
  {
   "cell_type": "code",
   "execution_count": 18,
   "id": "dac7c88d",
   "metadata": {},
   "outputs": [
    {
     "data": {
      "text/plain": [
       "'Un € vale 1.12 $'"
      ]
     },
     "execution_count": 18,
     "metadata": {},
     "output_type": "execute_result"
    }
   ],
   "source": [
    "'Un {moneda1} vale {cambio} {moneda2}'.format(moneda1 = '€', cambio = 1.12, moneda2 = '$')"
   ]
  },
  {
   "cell_type": "markdown",
   "id": "33ab5cf9",
   "metadata": {},
   "source": [
    "- DATOS LÓGICOS O BOOLEANOS "
   ]
  },
  {
   "cell_type": "code",
   "execution_count": 19,
   "id": "99c60674",
   "metadata": {},
   "outputs": [
    {
     "data": {
      "text/plain": [
       "False"
      ]
     },
     "execution_count": 19,
     "metadata": {},
     "output_type": "execute_result"
    }
   ],
   "source": [
    "not True"
   ]
  },
  {
   "cell_type": "code",
   "execution_count": 20,
   "id": "d0507f58",
   "metadata": {},
   "outputs": [
    {
     "data": {
      "text/plain": [
       "True"
      ]
     },
     "execution_count": 20,
     "metadata": {},
     "output_type": "execute_result"
    }
   ],
   "source": [
    "False or True"
   ]
  },
  {
   "cell_type": "code",
   "execution_count": 21,
   "id": "6d67fa70",
   "metadata": {},
   "outputs": [
    {
     "data": {
      "text/plain": [
       "False"
      ]
     },
     "execution_count": 21,
     "metadata": {},
     "output_type": "execute_result"
    }
   ],
   "source": [
    "True and False"
   ]
  },
  {
   "cell_type": "code",
   "execution_count": 23,
   "id": "d746e3bc",
   "metadata": {},
   "outputs": [
    {
     "data": {
      "text/plain": [
       "True"
      ]
     },
     "execution_count": 23,
     "metadata": {},
     "output_type": "execute_result"
    }
   ],
   "source": [
    "True and True"
   ]
  },
  {
   "cell_type": "markdown",
   "id": "62259016",
   "metadata": {},
   "source": [
    "- CONVERSIÓN DE DATOS PRIMITIVOS SIMPLES "
   ]
  },
  {
   "cell_type": "code",
   "execution_count": 24,
   "id": "e2ef16e2",
   "metadata": {},
   "outputs": [
    {
     "data": {
      "text/plain": [
       "12"
      ]
     },
     "execution_count": 24,
     "metadata": {},
     "output_type": "execute_result"
    }
   ],
   "source": [
    "int('12') "
   ]
  },
  {
   "cell_type": "code",
   "execution_count": 25,
   "id": "a3c2f834",
   "metadata": {},
   "outputs": [
    {
     "data": {
      "text/plain": [
       "1"
      ]
     },
     "execution_count": 25,
     "metadata": {},
     "output_type": "execute_result"
    }
   ],
   "source": [
    "int(True)"
   ]
  },
  {
   "cell_type": "code",
   "execution_count": 26,
   "id": "ec73d2c9",
   "metadata": {},
   "outputs": [
    {
     "ename": "ValueError",
     "evalue": "invalid literal for int() with base 10: 'c'",
     "output_type": "error",
     "traceback": [
      "\u001b[1;31m---------------------------------------------------------------------------\u001b[0m",
      "\u001b[1;31mValueError\u001b[0m                                Traceback (most recent call last)",
      "Cell \u001b[1;32mIn[26], line 1\u001b[0m\n\u001b[1;32m----> 1\u001b[0m \u001b[39mint\u001b[39;49m(\u001b[39m'\u001b[39;49m\u001b[39mc\u001b[39;49m\u001b[39m'\u001b[39;49m)\n",
      "\u001b[1;31mValueError\u001b[0m: invalid literal for int() with base 10: 'c'"
     ]
    }
   ],
   "source": [
    "int('c')"
   ]
  },
  {
   "cell_type": "code",
   "execution_count": 27,
   "id": "bfa33e6b",
   "metadata": {},
   "outputs": [
    {
     "data": {
      "text/plain": [
       "3.14"
      ]
     },
     "execution_count": 27,
     "metadata": {},
     "output_type": "execute_result"
    }
   ],
   "source": [
    "float('3.14') "
   ]
  },
  {
   "cell_type": "code",
   "execution_count": 28,
   "id": "36b5850e",
   "metadata": {},
   "outputs": [
    {
     "data": {
      "text/plain": [
       "1.0"
      ]
     },
     "execution_count": 28,
     "metadata": {},
     "output_type": "execute_result"
    }
   ],
   "source": [
    "float(True)"
   ]
  },
  {
   "cell_type": "code",
   "execution_count": 29,
   "id": "2218eb32",
   "metadata": {},
   "outputs": [
    {
     "ename": "ValueError",
     "evalue": "could not convert string to float: 'III'",
     "output_type": "error",
     "traceback": [
      "\u001b[1;31m---------------------------------------------------------------------------\u001b[0m",
      "\u001b[1;31mValueError\u001b[0m                                Traceback (most recent call last)",
      "Cell \u001b[1;32mIn[29], line 1\u001b[0m\n\u001b[1;32m----> 1\u001b[0m \u001b[39mfloat\u001b[39;49m(\u001b[39m'\u001b[39;49m\u001b[39mIII\u001b[39;49m\u001b[39m'\u001b[39;49m)\n",
      "\u001b[1;31mValueError\u001b[0m: could not convert string to float: 'III'"
     ]
    }
   ],
   "source": [
    "float('III')"
   ]
  },
  {
   "cell_type": "code",
   "execution_count": 30,
   "id": "6a21ee54",
   "metadata": {},
   "outputs": [
    {
     "data": {
      "text/plain": [
       "'3.14'"
      ]
     },
     "execution_count": 30,
     "metadata": {},
     "output_type": "execute_result"
    }
   ],
   "source": [
    "str(3.14)"
   ]
  },
  {
   "cell_type": "code",
   "execution_count": 31,
   "id": "89471097",
   "metadata": {},
   "outputs": [
    {
     "data": {
      "text/plain": [
       "'True'"
      ]
     },
     "execution_count": 31,
     "metadata": {},
     "output_type": "execute_result"
    }
   ],
   "source": [
    "str(True)"
   ]
  },
  {
   "cell_type": "code",
   "execution_count": 32,
   "id": "733cc6a8",
   "metadata": {},
   "outputs": [
    {
     "data": {
      "text/plain": [
       "False"
      ]
     },
     "execution_count": 32,
     "metadata": {},
     "output_type": "execute_result"
    }
   ],
   "source": [
    "bool(0) "
   ]
  },
  {
   "cell_type": "code",
   "execution_count": 33,
   "id": "a4dbc193",
   "metadata": {},
   "outputs": [
    {
     "data": {
      "text/plain": [
       "True"
      ]
     },
     "execution_count": 33,
     "metadata": {},
     "output_type": "execute_result"
    }
   ],
   "source": [
    "bool('3.14')"
   ]
  },
  {
   "cell_type": "code",
   "execution_count": 34,
   "id": "3afbfafd",
   "metadata": {},
   "outputs": [
    {
     "data": {
      "text/plain": [
       "False"
      ]
     },
     "execution_count": 34,
     "metadata": {},
     "output_type": "execute_result"
    }
   ],
   "source": [
    "bool('')"
   ]
  },
  {
   "cell_type": "code",
   "execution_count": 35,
   "id": "bcfae82c",
   "metadata": {},
   "outputs": [
    {
     "data": {
      "text/plain": [
       "True"
      ]
     },
     "execution_count": 35,
     "metadata": {},
     "output_type": "execute_result"
    }
   ],
   "source": [
    "bool('Hola')"
   ]
  },
  {
   "cell_type": "markdown",
   "id": "91adf2f8",
   "metadata": {},
   "source": [
    "- VARIABLES "
   ]
  },
  {
   "cell_type": "code",
   "execution_count": 36,
   "id": "fec23d46",
   "metadata": {},
   "outputs": [
    {
     "name": "stdout",
     "output_type": "stream",
     "text": [
      "Python\n"
     ]
    }
   ],
   "source": [
    "lenguaje = 'Python'\n",
    "print(lenguaje)"
   ]
  },
  {
   "cell_type": "code",
   "execution_count": 37,
   "id": "62c5e3a0",
   "metadata": {},
   "outputs": [
    {
     "name": "stdout",
     "output_type": "stream",
     "text": [
      "3.14\n"
     ]
    }
   ],
   "source": [
    "x = 3.14\n",
    "print(x)"
   ]
  },
  {
   "cell_type": "code",
   "execution_count": 38,
   "id": "dd7b8ac6",
   "metadata": {},
   "outputs": [
    {
     "name": "stdout",
     "output_type": "stream",
     "text": [
      "5\n"
     ]
    }
   ],
   "source": [
    "y = 3 + 2\n",
    "print(y)"
   ]
  },
  {
   "cell_type": "code",
   "execution_count": 39,
   "id": "cc7431cb",
   "metadata": {},
   "outputs": [
    {
     "name": "stdout",
     "output_type": "stream",
     "text": [
      "1\n",
      "2\n"
     ]
    }
   ],
   "source": [
    "# Asignación múltiple\n",
    "a1, a2 = 1, 2\n",
    "print(a1)\n",
    "print(a2)"
   ]
  },
  {
   "cell_type": "code",
   "execution_count": 40,
   "id": "0f78eadd",
   "metadata": {},
   "outputs": [
    {
     "name": "stdout",
     "output_type": "stream",
     "text": [
      "5.140000000000001\n"
     ]
    }
   ],
   "source": [
    "# Incremento (equivale a x = x + 2)\n",
    "x += 2\n",
    "print(x)"
   ]
  },
  {
   "cell_type": "code",
   "execution_count": 41,
   "id": "579e1ed0",
   "metadata": {},
   "outputs": [
    {
     "name": "stdout",
     "output_type": "stream",
     "text": [
      "4.140000000000001\n"
     ]
    }
   ],
   "source": [
    "# Decremento (equivale a x = x - 1)\n",
    "x -= 1\n",
    "print(x)"
   ]
  },
  {
   "cell_type": "code",
   "execution_count": 42,
   "id": "5b32c413",
   "metadata": {},
   "outputs": [
    {
     "name": "stdout",
     "output_type": "stream",
     "text": [
      "None\n"
     ]
    }
   ],
   "source": [
    "# Valor no definido\n",
    "x = None\n",
    "print(x)\n",
    "del x"
   ]
  },
  {
   "cell_type": "markdown",
   "id": "c604a444",
   "metadata": {},
   "source": [
    "- INTERCAMBIAR VALORES DE VARIABLES"
   ]
  },
  {
   "cell_type": "code",
   "execution_count": 44,
   "id": "0147238a",
   "metadata": {},
   "outputs": [
    {
     "name": "stdout",
     "output_type": "stream",
     "text": [
      "29\n",
      "17\n"
     ]
    }
   ],
   "source": [
    "variable_1 = 17\n",
    "variable_2 = 29\n",
    "variable_1 , variable_2 = variable_2 , variable_1\n",
    "print(variable_1)\n",
    "print(variable_2)"
   ]
  },
  {
   "cell_type": "markdown",
   "id": "8425068b",
   "metadata": {},
   "source": [
    "- BUCLES"
   ]
  },
  {
   "cell_type": "markdown",
   "id": "daec041c",
   "metadata": {},
   "source": [
    "1- Bucles condicionales ($\\color{red}{\\text{while}}$) "
   ]
  },
  {
   "cell_type": "code",
   "execution_count": 46,
   "id": "2885be0b",
   "metadata": {},
   "outputs": [],
   "source": [
    "# Pregunta al usuario por un número hasta que introduce 0.\n",
    "num = None\n",
    "while num != 0:\n",
    "    num = int(input('Introduce un número: '))"
   ]
  },
  {
   "cell_type": "code",
   "execution_count": 47,
   "id": "aebb774d",
   "metadata": {},
   "outputs": [],
   "source": [
    " # Pregunta al usuario por un número hasta que introduce 0.\n",
    "while True:\n",
    "    num = int(input('Introduce un número: '))\n",
    "    if num == 0:\n",
    "        break"
   ]
  },
  {
   "cell_type": "markdown",
   "id": "8bbd5a5c",
   "metadata": {},
   "source": [
    "2- Bucles  iterativos ($\\color{red}{\\text{for}}$) "
   ]
  },
  {
   "cell_type": "code",
   "execution_count": 48,
   "id": "3a7b7fc5",
   "metadata": {},
   "outputs": [
    {
     "name": "stdout",
     "output_type": "stream",
     "text": [
      "P\n",
      "y\n",
      "t\n",
      "h\n",
      "o\n",
      "n\n"
     ]
    }
   ],
   "source": [
    "palabra = 'Python'\n",
    "for letra in palabra:\n",
    "    print(letra)\n",
    "    "
   ]
  },
  {
   "cell_type": "code",
   "execution_count": 53,
   "id": "3b67ef27",
   "metadata": {},
   "outputs": [
    {
     "name": "stdout",
     "output_type": "stream",
     "text": [
      "1, 3, 5, 7, 9, "
     ]
    }
   ],
   "source": [
    "for i in range(1, 10,2):\n",
    "        print(i, end=\", \")"
   ]
  },
  {
   "cell_type": "markdown",
   "id": "656d5d58",
   "metadata": {},
   "source": [
    "- LISTAS"
   ]
  },
  {
   "cell_type": "markdown",
   "id": "c5bf497a",
   "metadata": {},
   "source": [
    "1- Creación de listas"
   ]
  },
  {
   "cell_type": "code",
   "execution_count": 54,
   "id": "5dcde600",
   "metadata": {},
   "outputs": [
    {
     "data": {
      "text/plain": [
       "list"
      ]
     },
     "execution_count": 54,
     "metadata": {},
     "output_type": "execute_result"
    }
   ],
   "source": [
    "# Lista vacía\n",
    "type([])"
   ]
  },
  {
   "cell_type": "code",
   "execution_count": 55,
   "id": "bf4ee841",
   "metadata": {},
   "outputs": [
    {
     "data": {
      "text/plain": [
       "[1, 'dos', True]"
      ]
     },
     "execution_count": 55,
     "metadata": {},
     "output_type": "execute_result"
    }
   ],
   "source": [
    "# Lista con elementos de distintos tipos\n",
    "[1, \"dos\", True]"
   ]
  },
  {
   "cell_type": "code",
   "execution_count": 57,
   "id": "42d0ce02",
   "metadata": {},
   "outputs": [
    {
     "data": {
      "text/plain": [
       "[1, [2, 3], 4]"
      ]
     },
     "execution_count": 57,
     "metadata": {},
     "output_type": "execute_result"
    }
   ],
   "source": [
    "# Listas anidadas\n",
    "b= [1, [2, 3], 4]\n",
    "b"
   ]
  },
  {
   "cell_type": "markdown",
   "id": "fc364586",
   "metadata": {},
   "source": [
    "2 - Creación de listas mediante la función $\\color{red}{\\text{list()}}$"
   ]
  },
  {
   "cell_type": "code",
   "execution_count": 58,
   "id": "bd7d3a02",
   "metadata": {},
   "outputs": [
    {
     "data": {
      "text/plain": [
       "[]"
      ]
     },
     "execution_count": 58,
     "metadata": {},
     "output_type": "execute_result"
    }
   ],
   "source": [
    "list()"
   ]
  },
  {
   "cell_type": "code",
   "execution_count": 59,
   "id": "56dd5509",
   "metadata": {},
   "outputs": [
    {
     "data": {
      "text/plain": [
       "['P', 'y', 't', 'h', 'o', 'n']"
      ]
     },
     "execution_count": 59,
     "metadata": {},
     "output_type": "execute_result"
    }
   ],
   "source": [
    "list(\"Python\")"
   ]
  },
  {
   "cell_type": "markdown",
   "id": "cf649f62",
   "metadata": {},
   "source": [
    "3- Acceso a los elementos de una lista"
   ]
  },
  {
   "cell_type": "code",
   "execution_count": 4,
   "id": "d614644d",
   "metadata": {},
   "outputs": [],
   "source": [
    " a = ['P', 'y', 't', 'h', 'o', 'n',2]"
   ]
  },
  {
   "cell_type": "code",
   "execution_count": 5,
   "id": "3500afcb",
   "metadata": {},
   "outputs": [
    {
     "data": {
      "text/plain": [
       "list"
      ]
     },
     "execution_count": 5,
     "metadata": {},
     "output_type": "execute_result"
    }
   ],
   "source": [
    "type(a)"
   ]
  },
  {
   "cell_type": "code",
   "execution_count": 61,
   "id": "75eb3159",
   "metadata": {},
   "outputs": [
    {
     "data": {
      "text/plain": [
       "'P'"
      ]
     },
     "execution_count": 61,
     "metadata": {},
     "output_type": "execute_result"
    }
   ],
   "source": [
    "a[0]"
   ]
  },
  {
   "cell_type": "code",
   "execution_count": 62,
   "id": "7f416ba0",
   "metadata": {},
   "outputs": [
    {
     "data": {
      "text/plain": [
       "'n'"
      ]
     },
     "execution_count": 62,
     "metadata": {},
     "output_type": "execute_result"
    }
   ],
   "source": [
    "a[5]"
   ]
  },
  {
   "cell_type": "code",
   "execution_count": 63,
   "id": "3b58d20e",
   "metadata": {},
   "outputs": [
    {
     "ename": "IndexError",
     "evalue": "list index out of range",
     "output_type": "error",
     "traceback": [
      "\u001b[1;31m---------------------------------------------------------------------------\u001b[0m",
      "\u001b[1;31mIndexError\u001b[0m                                Traceback (most recent call last)",
      "Cell \u001b[1;32mIn[63], line 1\u001b[0m\n\u001b[1;32m----> 1\u001b[0m a[\u001b[39m6\u001b[39;49m]\n",
      "\u001b[1;31mIndexError\u001b[0m: list index out of range"
     ]
    }
   ],
   "source": [
    "a[6]"
   ]
  },
  {
   "cell_type": "code",
   "execution_count": 64,
   "id": "c550e136",
   "metadata": {},
   "outputs": [
    {
     "data": {
      "text/plain": [
       "'n'"
      ]
     },
     "execution_count": 64,
     "metadata": {},
     "output_type": "execute_result"
    }
   ],
   "source": [
    "a[-1]"
   ]
  },
  {
   "cell_type": "markdown",
   "id": "ff522b33",
   "metadata": {},
   "source": [
    "4- Sublistas"
   ]
  },
  {
   "cell_type": "code",
   "execution_count": 65,
   "id": "77cf5b4c",
   "metadata": {},
   "outputs": [],
   "source": [
    "a = ['P', 'y', 't', 'h', 'o', 'n']"
   ]
  },
  {
   "cell_type": "code",
   "execution_count": 66,
   "id": "1307b27b",
   "metadata": {},
   "outputs": [
    {
     "data": {
      "text/plain": [
       "['y', 't', 'h']"
      ]
     },
     "execution_count": 66,
     "metadata": {},
     "output_type": "execute_result"
    }
   ],
   "source": [
    "a[1:4]"
   ]
  },
  {
   "cell_type": "code",
   "execution_count": 67,
   "id": "91d5c5b5",
   "metadata": {},
   "outputs": [
    {
     "data": {
      "text/plain": [
       "[]"
      ]
     },
     "execution_count": 67,
     "metadata": {},
     "output_type": "execute_result"
    }
   ],
   "source": [
    "a[1:1]"
   ]
  },
  {
   "cell_type": "code",
   "execution_count": 68,
   "id": "51b458c0",
   "metadata": {},
   "outputs": [
    {
     "data": {
      "text/plain": [
       "['P', 'y', 't', 'h', 'o', 'n']"
      ]
     },
     "execution_count": 68,
     "metadata": {},
     "output_type": "execute_result"
    }
   ],
   "source": [
    "a[:]"
   ]
  },
  {
   "cell_type": "code",
   "execution_count": 69,
   "id": "ddf6c0e8",
   "metadata": {},
   "outputs": [
    {
     "data": {
      "text/plain": [
       "['P', 't', 'o']"
      ]
     },
     "execution_count": 69,
     "metadata": {},
     "output_type": "execute_result"
    }
   ],
   "source": [
    "a[0:6:2]"
   ]
  },
  {
   "cell_type": "markdown",
   "id": "24219ac2",
   "metadata": {},
   "source": [
    "5- Operaciones que no modifican una lista"
   ]
  },
  {
   "cell_type": "code",
   "execution_count": 70,
   "id": "1a9673f5",
   "metadata": {},
   "outputs": [],
   "source": [
    "a = [1, 2, 2, 3]"
   ]
  },
  {
   "cell_type": "code",
   "execution_count": 71,
   "id": "cbb57162",
   "metadata": {},
   "outputs": [
    {
     "data": {
      "text/plain": [
       "4"
      ]
     },
     "execution_count": 71,
     "metadata": {},
     "output_type": "execute_result"
    }
   ],
   "source": [
    "len(a)"
   ]
  },
  {
   "cell_type": "code",
   "execution_count": 72,
   "id": "7fe64c23",
   "metadata": {},
   "outputs": [
    {
     "data": {
      "text/plain": [
       "1"
      ]
     },
     "execution_count": 72,
     "metadata": {},
     "output_type": "execute_result"
    }
   ],
   "source": [
    "min(a)"
   ]
  },
  {
   "cell_type": "code",
   "execution_count": 73,
   "id": "b2fe3ac8",
   "metadata": {},
   "outputs": [
    {
     "data": {
      "text/plain": [
       "3"
      ]
     },
     "execution_count": 73,
     "metadata": {},
     "output_type": "execute_result"
    }
   ],
   "source": [
    "max(a)"
   ]
  },
  {
   "cell_type": "code",
   "execution_count": 74,
   "id": "a74d8ce1",
   "metadata": {},
   "outputs": [
    {
     "data": {
      "text/plain": [
       "8"
      ]
     },
     "execution_count": 74,
     "metadata": {},
     "output_type": "execute_result"
    }
   ],
   "source": [
    "sum(a)"
   ]
  },
  {
   "cell_type": "code",
   "execution_count": 75,
   "id": "5076352d",
   "metadata": {},
   "outputs": [
    {
     "data": {
      "text/plain": [
       "True"
      ]
     },
     "execution_count": 75,
     "metadata": {},
     "output_type": "execute_result"
    }
   ],
   "source": [
    "3 in a"
   ]
  },
  {
   "cell_type": "code",
   "execution_count": 76,
   "id": "9d14f60c",
   "metadata": {},
   "outputs": [
    {
     "data": {
      "text/plain": [
       "1"
      ]
     },
     "execution_count": 76,
     "metadata": {},
     "output_type": "execute_result"
    }
   ],
   "source": [
    "a.index(2)"
   ]
  },
  {
   "cell_type": "code",
   "execution_count": 77,
   "id": "74ed5423",
   "metadata": {},
   "outputs": [
    {
     "data": {
      "text/plain": [
       "2"
      ]
     },
     "execution_count": 77,
     "metadata": {},
     "output_type": "execute_result"
    }
   ],
   "source": [
    "a.count(2)"
   ]
  },
  {
   "cell_type": "code",
   "execution_count": 78,
   "id": "3b1f95d1",
   "metadata": {},
   "outputs": [
    {
     "data": {
      "text/plain": [
       "True"
      ]
     },
     "execution_count": 78,
     "metadata": {},
     "output_type": "execute_result"
    }
   ],
   "source": [
    "all(a)"
   ]
  },
  {
   "cell_type": "code",
   "execution_count": 79,
   "id": "7df741c9",
   "metadata": {},
   "outputs": [
    {
     "data": {
      "text/plain": [
       "False"
      ]
     },
     "execution_count": 79,
     "metadata": {},
     "output_type": "execute_result"
    }
   ],
   "source": [
    "any([0, False, 3<2])"
   ]
  },
  {
   "cell_type": "markdown",
   "id": "ee207cbe",
   "metadata": {},
   "source": [
    "6- Operaciones que modifican una lista"
   ]
  },
  {
   "cell_type": "code",
   "execution_count": 80,
   "id": "7795fadb",
   "metadata": {},
   "outputs": [],
   "source": [
    "a = [1, 3]"
   ]
  },
  {
   "cell_type": "code",
   "execution_count": 81,
   "id": "faead3b3",
   "metadata": {},
   "outputs": [],
   "source": [
    "b = [2 , 4, 6]"
   ]
  },
  {
   "cell_type": "code",
   "execution_count": 82,
   "id": "6d30a0ea",
   "metadata": {},
   "outputs": [],
   "source": [
    "a.append(5)"
   ]
  },
  {
   "cell_type": "code",
   "execution_count": 83,
   "id": "8a0edf25",
   "metadata": {},
   "outputs": [
    {
     "data": {
      "text/plain": [
       "[1, 3, 5]"
      ]
     },
     "execution_count": 83,
     "metadata": {},
     "output_type": "execute_result"
    }
   ],
   "source": [
    "a"
   ]
  },
  {
   "cell_type": "code",
   "execution_count": 84,
   "id": "95cdd332",
   "metadata": {},
   "outputs": [],
   "source": [
    "a.remove(3)"
   ]
  },
  {
   "cell_type": "code",
   "execution_count": 85,
   "id": "44a80b31",
   "metadata": {},
   "outputs": [
    {
     "data": {
      "text/plain": [
       "[1, 5]"
      ]
     },
     "execution_count": 85,
     "metadata": {},
     "output_type": "execute_result"
    }
   ],
   "source": [
    "a"
   ]
  },
  {
   "cell_type": "code",
   "execution_count": 86,
   "id": "6effdf2b",
   "metadata": {},
   "outputs": [],
   "source": [
    "a.insert(1, 3)"
   ]
  },
  {
   "cell_type": "code",
   "execution_count": 87,
   "id": "c7069380",
   "metadata": {},
   "outputs": [
    {
     "data": {
      "text/plain": [
       "[1, 3, 5]"
      ]
     },
     "execution_count": 87,
     "metadata": {},
     "output_type": "execute_result"
    }
   ],
   "source": [
    "a"
   ]
  },
  {
   "cell_type": "code",
   "execution_count": 88,
   "id": "a409c2a3",
   "metadata": {},
   "outputs": [
    {
     "data": {
      "text/plain": [
       "6"
      ]
     },
     "execution_count": 88,
     "metadata": {},
     "output_type": "execute_result"
    }
   ],
   "source": [
    "b.pop()"
   ]
  },
  {
   "cell_type": "code",
   "execution_count": 90,
   "id": "b4fa7d3b",
   "metadata": {},
   "outputs": [],
   "source": [
    "c = a + b\n",
    "c"
   ]
  },
  {
   "cell_type": "code",
   "execution_count": 92,
   "id": "3978dd7a",
   "metadata": {},
   "outputs": [
    {
     "data": {
      "text/plain": [
       "[1, 2, 3, 4, 5]"
      ]
     },
     "execution_count": 92,
     "metadata": {},
     "output_type": "execute_result"
    }
   ],
   "source": [
    "c.sort()\n",
    "c"
   ]
  },
  {
   "cell_type": "code",
   "execution_count": 93,
   "id": "95d4c8f7",
   "metadata": {},
   "outputs": [
    {
     "data": {
      "text/plain": [
       "[5, 4, 3, 2, 1]"
      ]
     },
     "execution_count": 93,
     "metadata": {},
     "output_type": "execute_result"
    }
   ],
   "source": [
    "c.reverse()\n",
    "c"
   ]
  },
  {
   "cell_type": "markdown",
   "id": "61b05c1e",
   "metadata": {},
   "source": [
    "7 - Copia de listas"
   ]
  },
  {
   "cell_type": "markdown",
   "id": "ac4d318f",
   "metadata": {},
   "source": [
    "7.1 Copia por referencia"
   ]
  },
  {
   "cell_type": "code",
   "execution_count": 100,
   "id": "7bf77fbe",
   "metadata": {},
   "outputs": [],
   "source": [
    "a = [1, 2, 3]"
   ]
  },
  {
   "cell_type": "code",
   "execution_count": 101,
   "id": "91e8f1c9",
   "metadata": {},
   "outputs": [
    {
     "data": {
      "text/plain": [
       "[1, 2, 3]"
      ]
     },
     "execution_count": 101,
     "metadata": {},
     "output_type": "execute_result"
    }
   ],
   "source": [
    "# copia por referencia\n",
    "b = a\n",
    "b"
   ]
  },
  {
   "cell_type": "code",
   "execution_count": 102,
   "id": "3fcf8973",
   "metadata": {},
   "outputs": [
    {
     "data": {
      "text/plain": [
       "[1, 3]"
      ]
     },
     "execution_count": 102,
     "metadata": {},
     "output_type": "execute_result"
    }
   ],
   "source": [
    "b.remove(2)\n",
    "b"
   ]
  },
  {
   "cell_type": "code",
   "execution_count": 103,
   "id": "a14eb6aa",
   "metadata": {},
   "outputs": [
    {
     "data": {
      "text/plain": [
       "[1, 3]"
      ]
     },
     "execution_count": 103,
     "metadata": {},
     "output_type": "execute_result"
    }
   ],
   "source": [
    "a"
   ]
  },
  {
   "cell_type": "markdown",
   "id": "4634ed20",
   "metadata": {},
   "source": [
    "7.2 Copia por valor"
   ]
  },
  {
   "cell_type": "code",
   "execution_count": 104,
   "id": "30753d1c",
   "metadata": {},
   "outputs": [],
   "source": [
    "a = [1, 2, 3]"
   ]
  },
  {
   "cell_type": "code",
   "execution_count": 106,
   "id": "8dfab5e7",
   "metadata": {},
   "outputs": [
    {
     "data": {
      "text/plain": [
       "[1, 2, 3]"
      ]
     },
     "execution_count": 106,
     "metadata": {},
     "output_type": "execute_result"
    }
   ],
   "source": [
    "# copia por valor\n",
    "b = list(a)\n",
    "b"
   ]
  },
  {
   "cell_type": "code",
   "execution_count": 107,
   "id": "4f60c3fa",
   "metadata": {},
   "outputs": [
    {
     "data": {
      "text/plain": [
       "[1, 3]"
      ]
     },
     "execution_count": 107,
     "metadata": {},
     "output_type": "execute_result"
    }
   ],
   "source": [
    "b.remove(2)\n",
    "b"
   ]
  },
  {
   "cell_type": "code",
   "execution_count": 108,
   "id": "a875a53a",
   "metadata": {},
   "outputs": [
    {
     "data": {
      "text/plain": [
       "[1, 2, 3]"
      ]
     },
     "execution_count": 108,
     "metadata": {},
     "output_type": "execute_result"
    }
   ],
   "source": [
    "a"
   ]
  },
  {
   "cell_type": "markdown",
   "id": "bbf3c3c4",
   "metadata": {},
   "source": [
    "8- Cómo usar matrices en Python. Ejemplo"
   ]
  },
  {
   "cell_type": "code",
   "execution_count": null,
   "id": "28945418",
   "metadata": {},
   "outputs": [],
   "source": [
    "mtx_abc = [['A', 'B', 'C', 'D', 'E'],\n",
    "            ['F', 'G', 'H', 'I', 'J'],\n",
    "            ['K', 'L', 'M', 'N', 'O'],\n",
    "            ['P', 'Q', 'R', 'S', 'T'],\n",
    "            ['U', 'V', 'W', 'X', 'Y']]"
   ]
  },
  {
   "cell_type": "code",
   "execution_count": null,
   "id": "6cf598c5",
   "metadata": {},
   "outputs": [],
   "source": [
    "mtx_abc[0][2]"
   ]
  },
  {
   "cell_type": "code",
   "execution_count": null,
   "id": "a04a33a7",
   "metadata": {},
   "outputs": [],
   "source": [
    "mtx_abc[3][2]"
   ]
  },
  {
   "cell_type": "code",
   "execution_count": null,
   "id": "fb8cf5f3",
   "metadata": {},
   "outputs": [],
   "source": [
    "mtx_abc[3][4]"
   ]
  },
  {
   "cell_type": "code",
   "execution_count": null,
   "id": "0ecadba6",
   "metadata": {},
   "outputs": [],
   "source": [
    "mtx_abc[4][0]"
   ]
  },
  {
   "cell_type": "code",
   "execution_count": null,
   "id": "90745800",
   "metadata": {},
   "outputs": [],
   "source": [
    "mtx_abc[0][1]"
   ]
  },
  {
   "cell_type": "code",
   "execution_count": null,
   "id": "17801c51",
   "metadata": {},
   "outputs": [],
   "source": [
    "mtx_abc[0][0]"
   ]
  },
  {
   "cell_type": "code",
   "execution_count": null,
   "id": "5257da82",
   "metadata": {},
   "outputs": [],
   "source": [
    "mtx_abc[4][4]"
   ]
  },
  {
   "cell_type": "markdown",
   "id": "88ea4a54",
   "metadata": {},
   "source": [
    "- TUPLAS"
   ]
  },
  {
   "cell_type": "markdown",
   "id": "59847d16",
   "metadata": {},
   "source": [
    "1- Creación de tuplas"
   ]
  },
  {
   "cell_type": "code",
   "execution_count": null,
   "id": "dc5cc3fd",
   "metadata": {},
   "outputs": [],
   "source": [
    "# Tupla vacía\n",
    "type(())"
   ]
  },
  {
   "cell_type": "code",
   "execution_count": null,
   "id": "188a43fa",
   "metadata": {},
   "outputs": [],
   "source": [
    "# Tupla con elementos de distintos tipos\n",
    "(1, \"dos\", True)"
   ]
  },
  {
   "cell_type": "code",
   "execution_count": null,
   "id": "1aec0eab",
   "metadata": {},
   "outputs": [],
   "source": [
    "# Vector\n",
    "(1, 2, 3)"
   ]
  },
  {
   "cell_type": "code",
   "execution_count": null,
   "id": "4bd0735b",
   "metadata": {},
   "outputs": [],
   "source": [
    "# Matriz\n",
    "((1, 2, 3), (4, 5, 6))"
   ]
  },
  {
   "cell_type": "markdown",
   "id": "10352112",
   "metadata": {},
   "source": [
    "2- Creación de tuplas mediante la función $\\color{red}{\\text{tuple()}}$ "
   ]
  },
  {
   "cell_type": "code",
   "execution_count": null,
   "id": "88490545",
   "metadata": {},
   "outputs": [],
   "source": [
    "tuple()"
   ]
  },
  {
   "cell_type": "code",
   "execution_count": null,
   "id": "d51fc1ef",
   "metadata": {},
   "outputs": [],
   "source": [
    "tuple(\"Python\")"
   ]
  },
  {
   "cell_type": "code",
   "execution_count": null,
   "id": "a69bdc12",
   "metadata": {},
   "outputs": [],
   "source": [
    "tuple([1, 2, 3])"
   ]
  },
  {
   "cell_type": "markdown",
   "id": "07f9778b",
   "metadata": {},
   "source": [
    "3- Operaciones con tuplas"
   ]
  },
  {
   "cell_type": "code",
   "execution_count": null,
   "id": "27e8789a",
   "metadata": {},
   "outputs": [],
   "source": [
    "a = (1, 2, 3)"
   ]
  },
  {
   "cell_type": "code",
   "execution_count": null,
   "id": "2a5176e9",
   "metadata": {},
   "outputs": [],
   "source": [
    "a[1]"
   ]
  },
  {
   "cell_type": "code",
   "execution_count": null,
   "id": "1c20ecf3",
   "metadata": {},
   "outputs": [],
   "source": [
    "len(a)"
   ]
  },
  {
   "cell_type": "code",
   "execution_count": null,
   "id": "1c2aac49",
   "metadata": {},
   "outputs": [],
   "source": [
    "a.index(3)"
   ]
  },
  {
   "cell_type": "code",
   "execution_count": null,
   "id": "988025a5",
   "metadata": {},
   "outputs": [],
   "source": [
    "0 in a"
   ]
  },
  {
   "cell_type": "code",
   "execution_count": null,
   "id": "3feca32e",
   "metadata": {},
   "outputs": [],
   "source": [
    "b = ((1, 2, 3), (4, 5, 6))"
   ]
  },
  {
   "cell_type": "code",
   "execution_count": null,
   "id": "37d8f189",
   "metadata": {},
   "outputs": [],
   "source": [
    "b[1]"
   ]
  }
 ],
 "metadata": {
  "kernelspec": {
   "display_name": "Python 3 (ipykernel)",
   "language": "python",
   "name": "python3"
  },
  "language_info": {
   "codemirror_mode": {
    "name": "ipython",
    "version": 3
   },
   "file_extension": ".py",
   "mimetype": "text/x-python",
   "name": "python",
   "nbconvert_exporter": "python",
   "pygments_lexer": "ipython3",
   "version": "3.11.2"
  }
 },
 "nbformat": 4,
 "nbformat_minor": 5
}
